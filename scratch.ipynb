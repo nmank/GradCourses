{
 "cells": [
  {
   "cell_type": "code",
   "execution_count": 1,
   "metadata": {},
   "outputs": [],
   "source": [
    "import pandas\n",
    "import numpy as np"
   ]
  },
  {
   "cell_type": "code",
   "execution_count": 12,
   "metadata": {},
   "outputs": [],
   "source": [
    "pathway_data = pandas.read_csv('/data4/mankovic/ZOETIS/felis_catus_pathways.csv', index_col = 0)"
   ]
  },
  {
   "cell_type": "code",
   "execution_count": 20,
   "metadata": {},
   "outputs": [],
   "source": [
    "pathway_data = pathway_data.fillna(0)"
   ]
  },
  {
   "cell_type": "code",
   "execution_count": 21,
   "metadata": {},
   "outputs": [
    {
     "name": "stdout",
     "output_type": "stream",
     "text": [
      "R-HSA-162699\n",
      "A1BG           0.0\n",
      "A1CF           0.0\n",
      "A2ML1          0.0\n",
      "A2M            0.0\n",
      "A3GALT2        0.0\n",
      "              ... \n",
      "NKX6.2         0.0\n",
      "NKX6.3         0.0\n",
      "TRNAY.GUA_5    0.0\n",
      "MARC1          0.0\n",
      "MARC2          0.0\n",
      "Name: R-HSA-162699, Length: 35607, dtype: float64\n"
     ]
    }
   ],
   "source": [
    "ii=0\n",
    "for index, row in pathway_data.iterrows():\n",
    "    if ii > 0:\n",
    "        break\n",
    "    print(index)\n",
    "    print(row)\n",
    "    ii+=1"
   ]
  },
  {
   "cell_type": "code",
   "execution_count": 22,
   "metadata": {},
   "outputs": [],
   "source": []
  },
  {
   "cell_type": "code",
   "execution_count": 25,
   "metadata": {},
   "outputs": [
    {
     "data": {
      "text/plain": [
       "Index(['ALPI', 'ALPL', 'ART3', 'ART4', 'BST1', 'CD109', 'CNTN3', 'CNTN4',\n",
       "       'CNTN5', 'CPM', 'DPM1', 'DPM2', 'DPM3', 'FCGR3A', 'GP2', 'GPAA1',\n",
       "       'GPIHBP1', 'GPLD1', 'IZUMO1R', 'LOC101084733', 'LOC101086271',\n",
       "       'LOC101091333', 'LOC101096984', 'LSAMP', 'LY6D', 'LY6G6C', 'LY6H',\n",
       "       'LYPD1', 'LYPD2', 'LYPD3', 'LYPD4', 'LYPD5', 'LYPD6B', 'LYPD8', 'MDGA1',\n",
       "       'MDGA2', 'MELTF', 'NEGR1', 'NRN1L', 'NRN1', 'NTM', 'NTNG1', 'NTNG2',\n",
       "       'OPCML', 'OTOA', 'PGAP1', 'PIGA', 'PIGB', 'PIGC', 'PIGF', 'PIGG',\n",
       "       'PIGH', 'PIGK', 'PIGL', 'PIGM', 'PIGN', 'PIGO', 'PIGP', 'PIGQ', 'PIGS',\n",
       "       'PIGT', 'PIGU', 'PIGV', 'PIGW', 'PIGX', 'PIGY', 'PLAUR', 'PLET1',\n",
       "       'PRND', 'PSCA', 'RECK', 'RTN4RL1', 'RTN4RL2', 'SPACA4', 'TECTA',\n",
       "       'TECTB', 'TEX101', 'THY1', 'XPNPEP2'],\n",
       "      dtype='object')"
      ]
     },
     "execution_count": 25,
     "metadata": {},
     "output_type": "execute_result"
    }
   ],
   "source": []
  },
  {
   "cell_type": "code",
   "execution_count": 16,
   "metadata": {},
   "outputs": [
    {
     "ename": "AttributeError",
     "evalue": "'Series' object has no attribute 'columns'",
     "output_type": "error",
     "traceback": [
      "\u001b[0;31m---------------------------------------------------------------------------\u001b[0m",
      "\u001b[0;31mAttributeError\u001b[0m                            Traceback (most recent call last)",
      "\u001b[0;32m/tmp/ipykernel_31493/2194740638.py\u001b[0m in \u001b[0;36m<module>\u001b[0;34m\u001b[0m\n\u001b[0;32m----> 1\u001b[0;31m \u001b[0mcols\u001b[0m \u001b[0;34m=\u001b[0m \u001b[0mrow\u001b[0m\u001b[0;34m.\u001b[0m\u001b[0mcolumns\u001b[0m\u001b[0;34m.\u001b[0m\u001b[0mvalues\u001b[0m\u001b[0;34m\u001b[0m\u001b[0;34m\u001b[0m\u001b[0m\n\u001b[0m\u001b[1;32m      2\u001b[0m \u001b[0mmask\u001b[0m \u001b[0;34m=\u001b[0m \u001b[0mrow\u001b[0m\u001b[0;34m.\u001b[0m\u001b[0mgt\u001b[0m\u001b[0;34m(\u001b[0m\u001b[0;36m0.0\u001b[0m\u001b[0;34m)\u001b[0m\u001b[0;34m.\u001b[0m\u001b[0mvalues\u001b[0m\u001b[0;34m\u001b[0m\u001b[0;34m\u001b[0m\u001b[0m\n\u001b[1;32m      3\u001b[0m \u001b[0mfeatures_in_pathway\u001b[0m \u001b[0;34m=\u001b[0m \u001b[0mcols\u001b[0m\u001b[0;34m[\u001b[0m\u001b[0mmask\u001b[0m\u001b[0;34m]\u001b[0m\u001b[0;34m.\u001b[0m\u001b[0mtolist\u001b[0m\u001b[0;34m(\u001b[0m\u001b[0;34m)\u001b[0m\u001b[0;34m\u001b[0m\u001b[0;34m\u001b[0m\u001b[0m\n",
      "\u001b[0;32m~/anaconda3/lib/python3.8/site-packages/pandas/core/generic.py\u001b[0m in \u001b[0;36m__getattr__\u001b[0;34m(self, name)\u001b[0m\n\u001b[1;32m   5485\u001b[0m         ):\n\u001b[1;32m   5486\u001b[0m             \u001b[0;32mreturn\u001b[0m \u001b[0mself\u001b[0m\u001b[0;34m[\u001b[0m\u001b[0mname\u001b[0m\u001b[0;34m]\u001b[0m\u001b[0;34m\u001b[0m\u001b[0;34m\u001b[0m\u001b[0m\n\u001b[0;32m-> 5487\u001b[0;31m         \u001b[0;32mreturn\u001b[0m \u001b[0mobject\u001b[0m\u001b[0;34m.\u001b[0m\u001b[0m__getattribute__\u001b[0m\u001b[0;34m(\u001b[0m\u001b[0mself\u001b[0m\u001b[0;34m,\u001b[0m \u001b[0mname\u001b[0m\u001b[0;34m)\u001b[0m\u001b[0;34m\u001b[0m\u001b[0;34m\u001b[0m\u001b[0m\n\u001b[0m\u001b[1;32m   5488\u001b[0m \u001b[0;34m\u001b[0m\u001b[0m\n\u001b[1;32m   5489\u001b[0m     \u001b[0;32mdef\u001b[0m \u001b[0m__setattr__\u001b[0m\u001b[0;34m(\u001b[0m\u001b[0mself\u001b[0m\u001b[0;34m,\u001b[0m \u001b[0mname\u001b[0m\u001b[0;34m:\u001b[0m \u001b[0mstr\u001b[0m\u001b[0;34m,\u001b[0m \u001b[0mvalue\u001b[0m\u001b[0;34m)\u001b[0m \u001b[0;34m->\u001b[0m \u001b[0;32mNone\u001b[0m\u001b[0;34m:\u001b[0m\u001b[0;34m\u001b[0m\u001b[0;34m\u001b[0m\u001b[0m\n",
      "\u001b[0;31mAttributeError\u001b[0m: 'Series' object has no attribute 'columns'"
     ]
    }
   ],
   "source": [
    "\n",
    "mask = row.gt(0.0).values\n",
    "features_in_pathway = cols[mask].tolist()"
   ]
  },
  {
   "cell_type": "code",
   "execution_count": 2,
   "metadata": {},
   "outputs": [],
   "source": [
    "A = np.abs(np.random.rand(20,20))"
   ]
  },
  {
   "cell_type": "code",
   "execution_count": 3,
   "metadata": {},
   "outputs": [],
   "source": [
    "A = A - np.diag(A)\n",
    "A = A + A.T"
   ]
  },
  {
   "cell_type": "code",
   "execution_count": 4,
   "metadata": {},
   "outputs": [
    {
     "data": {
      "text/plain": [
       "array([[ 0.        ,  0.        , -0.01808192, -0.60828747, -0.38430035,\n",
       "         0.        , -0.37013991,  0.11947516, -0.37239082,  0.44627565,\n",
       "        -1.07569203, -0.28269974, -1.03115629,  0.62746339, -0.3109653 ,\n",
       "        -0.6643898 , -0.87369675, -0.41063571, -0.31503629, -1.26056892],\n",
       "       [ 0.        ,  0.        ,  0.        ,  0.        ,  0.        ,\n",
       "         0.        ,  0.        ,  0.        ,  0.        ,  0.        ,\n",
       "         0.        ,  0.        ,  0.        ,  0.        ,  0.        ,\n",
       "         0.        ,  0.        ,  0.        ,  0.        ,  0.        ],\n",
       "       [-0.01808192,  0.        ,  0.        , -0.46156414,  0.12732165,\n",
       "         0.        ,  0.08572634,  1.03101272,  0.16683084,  1.23870985,\n",
       "        -0.48228589, -0.36937906, -0.00966456, -0.15422035, -0.25473673,\n",
       "         0.54697025, -0.33037559, -0.18824584, -0.11305336, -0.49345904],\n",
       "       [-0.60828747,  0.        , -0.46156414,  0.        , -0.16956108,\n",
       "         0.        , -0.23816134, -0.38739781, -0.61213977,  0.35753187,\n",
       "        -0.42755428,  0.52191791,  0.14495735,  0.39665204, -0.47399077,\n",
       "         0.14107569,  0.08773182, -0.31380764, -0.17501296, -0.3258836 ],\n",
       "       [-0.38430035,  0.        ,  0.12732165, -0.16956108,  0.        ,\n",
       "         0.        ,  0.28743397,  0.7570679 , -1.00137294,  0.56822474,\n",
       "         0.09801433,  0.02208395,  0.13675669, -0.04712328,  0.16834787,\n",
       "         0.74754959, -0.25248315,  0.49332436,  0.81999088, -1.13434505],\n",
       "       [ 0.        ,  0.        ,  0.        ,  0.        ,  0.        ,\n",
       "         0.        ,  0.        ,  0.        ,  0.        ,  0.        ,\n",
       "         0.        ,  0.        ,  0.        ,  0.        ,  0.        ,\n",
       "         0.        ,  0.        ,  0.        ,  0.        ,  0.        ],\n",
       "       [-0.37013991,  0.        ,  0.08572634, -0.23816134,  0.28743397,\n",
       "         0.        ,  0.        ,  0.86894902, -0.02067728,  0.72316209,\n",
       "         0.35713228,  0.46328186,  1.25230266, -0.19679047,  0.85444628,\n",
       "         0.81490037, -0.45481904,  0.60546643,  0.90925246, -0.8280413 ],\n",
       "       [ 0.11947516,  0.        ,  1.03101272, -0.38739781,  0.7570679 ,\n",
       "         0.        ,  0.86894902,  0.        , -0.45628781,  0.80557124,\n",
       "         0.19213521,  0.73256914,  0.03999685,  0.76617197, -0.04466724,\n",
       "         0.01515906, -0.5654255 ,  1.00382462,  1.00147501, -0.05529944],\n",
       "       [-0.37239082,  0.        ,  0.16683084, -0.61213977, -1.00137294,\n",
       "         0.        , -0.02067728, -0.45628781,  0.        ,  0.54760385,\n",
       "        -0.97256869,  0.70800589, -0.3701615 , -0.08934108, -0.45868635,\n",
       "        -0.69707288, -1.1596706 ,  0.20058971,  0.33819443,  0.01099332],\n",
       "       [ 0.44627565,  0.        ,  1.23870985,  0.35753187,  0.56822474,\n",
       "         0.        ,  0.72316209,  0.80557124,  0.54760385,  0.        ,\n",
       "        -0.03269107,  0.7724302 ,  0.02143743,  0.6002614 , -0.1645461 ,\n",
       "         0.50689881, -0.68122367,  1.06711436,  0.29091859, -0.64994829],\n",
       "       [-1.07569203,  0.        , -0.48228589, -0.42755428,  0.09801433,\n",
       "         0.        ,  0.35713228,  0.19213521, -0.97256869, -0.03269107,\n",
       "         0.        , -0.00183944,  0.06664364, -0.04311039, -0.35228671,\n",
       "        -0.82878264,  0.26344016, -0.39434551, -0.22584989, -0.91316127],\n",
       "       [-0.28269974,  0.        , -0.36937906,  0.52191791,  0.02208395,\n",
       "         0.        ,  0.46328186,  0.73256914,  0.70800589,  0.7724302 ,\n",
       "        -0.00183944,  0.        ,  0.48842501,  0.60449171, -0.13739077,\n",
       "         0.28164776,  0.37039462,  1.03219797,  0.2154885 ,  0.02342921],\n",
       "       [-1.03115629,  0.        , -0.00966456,  0.14495735,  0.13675669,\n",
       "         0.        ,  1.25230266,  0.03999685, -0.3701615 ,  0.02143743,\n",
       "         0.06664364,  0.48842501,  0.        ,  0.88006726, -0.4442809 ,\n",
       "         0.70762409, -0.16048603,  0.67351447,  0.52399854,  0.28046454],\n",
       "       [ 0.62746339,  0.        , -0.15422035,  0.39665204, -0.04712328,\n",
       "         0.        , -0.19679047,  0.76617197, -0.08934108,  0.6002614 ,\n",
       "        -0.04311039,  0.60449171,  0.88006726,  0.        ,  0.48187609,\n",
       "         0.54641662,  0.01369309,  0.14459951,  0.06900344,  0.16567553],\n",
       "       [-0.3109653 ,  0.        , -0.25473673, -0.47399077,  0.16834787,\n",
       "         0.        ,  0.85444628, -0.04466724, -0.45868635, -0.1645461 ,\n",
       "        -0.35228671, -0.13739077, -0.4442809 ,  0.48187609,  0.        ,\n",
       "        -1.07214322, -1.41879818,  0.53383213,  0.25069008, -0.01223176],\n",
       "       [-0.6643898 ,  0.        ,  0.54697025,  0.14107569,  0.74754959,\n",
       "         0.        ,  0.81490037,  0.01515906, -0.69707288,  0.50689881,\n",
       "        -0.82878264,  0.28164776,  0.70762409,  0.54641662, -1.07214322,\n",
       "         0.        , -0.19907914,  0.05903488, -0.56625664, -0.39196403],\n",
       "       [-0.87369675,  0.        , -0.33037559,  0.08773182, -0.25248315,\n",
       "         0.        , -0.45481904, -0.5654255 , -1.1596706 , -0.68122367,\n",
       "         0.26344016,  0.37039462, -0.16048603,  0.01369309, -1.41879818,\n",
       "        -0.19907914,  0.        , -0.04246533, -0.15616546, -0.39128509],\n",
       "       [-0.41063571,  0.        , -0.18824584, -0.31380764,  0.49332436,\n",
       "         0.        ,  0.60546643,  1.00382462,  0.20058971,  1.06711436,\n",
       "        -0.39434551,  1.03219797,  0.67351447,  0.14459951,  0.53383213,\n",
       "         0.05903488, -0.04246533,  0.        ,  0.9076465 ,  0.05449631],\n",
       "       [-0.31503629,  0.        , -0.11305336, -0.17501296,  0.81999088,\n",
       "         0.        ,  0.90925246,  1.00147501,  0.33819443,  0.29091859,\n",
       "        -0.22584989,  0.2154885 ,  0.52399854,  0.06900344,  0.25069008,\n",
       "        -0.56625664, -0.15616546,  0.9076465 ,  0.        , -0.30713785],\n",
       "       [-1.26056892,  0.        , -0.49345904, -0.3258836 , -1.13434505,\n",
       "         0.        , -0.8280413 , -0.05529944,  0.01099332, -0.64994829,\n",
       "        -0.91316127,  0.02342921,  0.28046454,  0.16567553, -0.01223176,\n",
       "        -0.39196403, -0.39128509,  0.05449631, -0.30713785,  0.        ]])"
      ]
     },
     "execution_count": 4,
     "metadata": {},
     "output_type": "execute_result"
    }
   ],
   "source": [
    "A[:,1] = 0\n",
    "A[:,5] = 0\n",
    "A[1,:] = 0\n",
    "A[5,:] = 0\n",
    "A"
   ]
  },
  {
   "cell_type": "code",
   "execution_count": 5,
   "metadata": {},
   "outputs": [],
   "source": [
    "A = A.T\n",
    "n = A.shape[0]\n",
    "\n",
    "connected_idx = np.where(np.sum(A, axis = 0) != 0)[0]\n",
    "n = len(connected_idx)\n",
    "M = np.zeros((n,n))\n",
    "for i in range(n): \n",
    "    ii = connected_idx[i]\n",
    "    A_sum = np.sum(A[connected_idx,ii])\n",
    "    if A_sum == 0:\n",
    "        M[:,i] = A[connected_idx,ii]\n",
    "        print('dangling nodes for page rank')\n",
    "    else:\n",
    "        M[:,i] = A[connected_idx,ii]/A_sum\n",
    "\n"
   ]
  },
  {
   "cell_type": "code",
   "execution_count": 6,
   "metadata": {},
   "outputs": [
    {
     "data": {
      "text/plain": [
       "(18, 18)"
      ]
     },
     "execution_count": 6,
     "metadata": {},
     "output_type": "execute_result"
    }
   ],
   "source": [
    "M.shape"
   ]
  },
  {
   "cell_type": "code",
   "execution_count": 10,
   "metadata": {},
   "outputs": [
    {
     "name": "stdout",
     "output_type": "stream",
     "text": [
      "1\n",
      "0.4893334960883263\n",
      "0.14334636678053383\n",
      "0.15337166368572425\n",
      "0.04358648726418753\n",
      "0.037967350125605676\n",
      "0.012119678229159474\n",
      "0.009428472849319117\n",
      "0.003356085342439329\n",
      "0.0023266693061634565\n"
     ]
    }
   ],
   "source": [
    "#taken from da wikipedia\n",
    "eps = 0.001\n",
    "d = 0.85\n",
    "\n",
    "#new and fast\n",
    "v = np.random.rand(n, 1)\n",
    "v = v / np.linalg.norm(v, 1)\n",
    "err = 1\n",
    "while err > eps:\n",
    "    print(err)\n",
    "    v0 = v.copy()\n",
    "    v = (d * M) @ v0 + (1 - d) / n\n",
    "    err = np.linalg.norm(v - v0, 2)\n",
    "    \n",
    "connected_scores = v.flatten()\n",
    "\n",
    "if n != A.shape[0]:\n",
    "    scores = np.zeros(A.shape[0])\n",
    "    scores[connected_idx] = connected_scores"
   ]
  },
  {
   "cell_type": "code",
   "execution_count": 11,
   "metadata": {},
   "outputs": [
    {
     "data": {
      "text/plain": [
       "array([ 0.14250679,  0.        , -0.01130517,  0.04274842, -0.03116435,\n",
       "        0.        , -0.04981063,  0.04750598,  0.14758003, -0.01609234,\n",
       "        0.15998104,  0.01519752, -0.02869626, -0.02046714,  0.18637992,\n",
       "        0.05709981,  0.09147021,  0.04292244,  0.11534381,  0.10879994])"
      ]
     },
     "execution_count": 11,
     "metadata": {},
     "output_type": "execute_result"
    }
   ],
   "source": [
    "scores"
   ]
  },
  {
   "cell_type": "code",
   "execution_count": 32,
   "metadata": {},
   "outputs": [
    {
     "data": {
      "text/plain": [
       "array([ 0,  2,  3,  4,  6,  7,  8,  9, 10, 11, 12, 13, 14, 15, 16, 17, 18,\n",
       "       19])"
      ]
     },
     "execution_count": 32,
     "metadata": {},
     "output_type": "execute_result"
    }
   ],
   "source": [
    "connected_idx"
   ]
  },
  {
   "cell_type": "code",
   "execution_count": null,
   "metadata": {},
   "outputs": [],
   "source": []
  }
 ],
 "metadata": {
  "interpreter": {
   "hash": "9a16b7d45e15add018271b8879906ed388208b17729257166cad5f2212e101aa"
  },
  "kernelspec": {
   "display_name": "Python 3.8.8 ('base': conda)",
   "language": "python",
   "name": "python3"
  },
  "language_info": {
   "codemirror_mode": {
    "name": "ipython",
    "version": 3
   },
   "file_extension": ".py",
   "mimetype": "text/x-python",
   "name": "python",
   "nbconvert_exporter": "python",
   "pygments_lexer": "ipython3",
   "version": "3.8.8"
  },
  "orig_nbformat": 4
 },
 "nbformat": 4,
 "nbformat_minor": 2
}
