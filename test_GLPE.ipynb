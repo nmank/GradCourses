{
 "cells": [
  {
   "cell_type": "code",
   "execution_count": 1,
   "metadata": {},
   "outputs": [],
   "source": [
    "import GLPE\n",
    "#https://github.com/ekehoe32/orthrus\n",
    "import sys\n",
    "sys.path.append('/home/katrina/a/mankovic/ZOETIS/Fall2021/Orthrus/orthrus')\n",
    "import orthrus\n",
    "from orthrus import core\n",
    "from orthrus.core import dataset\n",
    "import numpy as np\n",
    "# from NetworkDataAnalysis import graph_tools_construction as gt\n",
    "from matplotlib import pyplot as plt\n",
    "import pandas\n",
    "# from orthrus.core.pipeline import *\n",
    "from sklearn.preprocessing import FunctionTransformer\n",
    "from orthrus.preprocessing.imputation import HalfMinimum\n",
    "from sklearn.pipeline import make_pipeline\n",
    "from sklearn.decomposition import PCA\n",
    "from orthrus.core.helper import load_object"
   ]
  },
  {
   "cell_type": "markdown",
   "metadata": {},
   "source": [
    "# GSE Test"
   ]
  },
  {
   "cell_type": "code",
   "execution_count": 2,
   "metadata": {},
   "outputs": [],
   "source": [
    "# ds = pandas.read_csv('/data4/mankovic/GSE73072/calcom_splits/entrez_ids/datagse73072_5to1_25_32_train_limma.csv', index_col = 'SubjectID')\n",
    "ds = pandas.read_csv('/data4/mankovic/GSE73072/calcom_splits/data/gse73072_5to1_25_32_train_limma.csv', index_col = 'SubjectID')"
   ]
  },
  {
   "cell_type": "code",
   "execution_count": 3,
   "metadata": {},
   "outputs": [
    {
     "name": "stdout",
     "output_type": "stream",
     "text": [
      "CLPE(centrality_measure='page_rank',\n",
      "     feature_ids=['1007_s_at', '1053_at', '117_at', '121_at', '1255_g_at',\n",
      "                  '1294_at', '1316_at', '1320_at', '1405_i_at', '1431_at',\n",
      "                  '1438_at', '1487_at', '1494_f_at', '1598_g_at', '160020_at',\n",
      "                  '1729_at', '177_at', '1773_at', '179_at', '1861_at',\n",
      "                  '200000_s_at', '200001_at', '200002_at', '200003_s_at',\n",
      "                  '200004_at', '200005_at', '200006_at', '200007_at',\n",
      "                  '200008_s_at', '200009_at', ...],\n",
      "     heat_kernel_param=2.0, network_type='precomputed', normalize_rows=0.0,\n",
      "     pathway_files='/data4/mankovic/GSE73072/new_pw_edge_mtx/')\n"
     ]
    },
    {
     "data": {
      "text/plain": [
       "((2261, 22277), 2261)"
      ]
     },
     "execution_count": 3,
     "metadata": {},
     "output_type": "execute_result"
    }
   ],
   "source": [
    "precomputed_clpe = GLPE.CLPE(centrality_measure = 'page_rank', \n",
    "                    network_type = 'precomputed',\n",
    "                    feature_ids = list(ds.columns),\n",
    "                    pathway_files = '/data4/mankovic/GSE73072/new_pw_edge_mtx/',\n",
    "                    # pathway_files = '/data3/darpa/omics_databases/ensembl2pathway/pathways_edges/pathways/pw_edge_mtx/',\n",
    "                    directed = False,\n",
    "                    heat_kernel_param=2,\n",
    "                    normalize_rows=False)\n",
    "\n",
    "print(precomputed_clpe)\n",
    "\n",
    "precomputed_clpe.fit(np.array(ds))\n",
    "\n",
    "precomputed_clpe.pathway_transition_matrix_.shape, len(precomputed_clpe.pathway_names_)"
   ]
  },
  {
   "cell_type": "code",
   "execution_count": 4,
   "metadata": {},
   "outputs": [
    {
     "data": {
      "text/plain": [
       "1894.5213742354752"
      ]
     },
     "execution_count": 4,
     "metadata": {},
     "output_type": "execute_result"
    }
   ],
   "source": [
    "np.sum(precomputed_clpe.pathway_transition_matrix_)"
   ]
  },
  {
   "cell_type": "code",
   "execution_count": 5,
   "metadata": {},
   "outputs": [
    {
     "name": "stdout",
     "output_type": "stream",
     "text": [
      "CLPE(centrality_measure='degree',\n",
      "     feature_ids=['1007_s_at', '1053_at', '117_at', '121_at', '1255_g_at',\n",
      "                  '1294_at', '1316_at', '1320_at', '1405_i_at', '1431_at',\n",
      "                  '1438_at', '1487_at', '1494_f_at', '1598_g_at', '160020_at',\n",
      "                  '1729_at', '177_at', '1773_at', '179_at', '1861_at',\n",
      "                  '200000_s_at', '200001_at', '200002_at', '200003_s_at',\n",
      "                  '200004_at', '200005_at', '200006_at', '200007_at',\n",
      "                  '200008_s_at', '200009_at', ...],\n",
      "     heat_kernel_param=2.0, network_type='correlation', normalize_rows=0.0,\n",
      "     pathway_files='/data3/darpa/omics_databases/ensembl2pathway/pathways_edges/pathways/pw_edge_mtx/')\n"
     ]
    },
    {
     "data": {
      "text/plain": [
       "((2261, 22277), 2261)"
      ]
     },
     "execution_count": 5,
     "metadata": {},
     "output_type": "execute_result"
    }
   ],
   "source": [
    "cor_clpe = GLPE.CLPE(centrality_measure = 'degree', \n",
    "                    network_type = 'correlation',\n",
    "                    feature_ids = list(ds.columns),\n",
    "                    pathway_files = '/data3/darpa/omics_databases/ensembl2pathway/pathways_edges/pathways/pw_edge_mtx/',\n",
    "                    directed = False,\n",
    "                    heat_kernel_param=2,\n",
    "                    normalize_rows=False)\n",
    "\n",
    "print(cor_clpe)\n",
    "\n",
    "cor_clpe.fit(np.array(ds))\n",
    "\n",
    "cor_clpe.pathway_transition_matrix_.shape, len(cor_clpe.pathway_names_)"
   ]
  },
  {
   "cell_type": "code",
   "execution_count": 5,
   "metadata": {},
   "outputs": [
    {
     "name": "stdout",
     "output_type": "stream",
     "text": [
      "null trial 0 done\n"
     ]
    }
   ],
   "source": [
    "feats = pandas.read_csv('/data4/mankovic/GSE73072/features/5_datasets_with_limma_subject_id_training_25_32.csv', index_col = 0)\n",
    "feat_ids = [str(f) for f in list(feats['EntrezID'])]\n",
    "restricted_feat_ids = list(set(list(ds.columns)).intersection(list(feat_ids)))\n",
    "res = precomputed_clpe.simple_transform(restricted_feat_ids, n_null_trials = 5)"
   ]
  },
  {
   "cell_type": "code",
   "execution_count": 2,
   "metadata": {},
   "outputs": [],
   "source": [
    "#load data\n",
    "Z40_dataset = dataset.load_dataset('/data4/mankovic/De-Identified_CZ/DeId_TPM_C1_Z40_Z34.ds')\n",
    "Z40_dataset.metadata = Z40_dataset.metadata.query(\"Project == 'Z40' & Treatment == 'High' & Timepoint == 0.0\")\n",
    "sidx = list(Z40_dataset.metadata.index)  \n",
    "Z40_dataset.data = Z40_dataset.data.loc[sidx]\n",
    "\n",
    "#transform data (according to Kartikay)\n",
    "transform = make_pipeline(HalfMinimum(missing_values=0), FunctionTransformer(np.log2))\n",
    "Z40_dataset.normalize(transform, norm_name='HalfMinimum + Log2')\n",
    "Z40_data = Z40_dataset.data\n",
    "\n",
    "\n",
    "\n"
   ]
  },
  {
   "cell_type": "code",
   "execution_count": 3,
   "metadata": {},
   "outputs": [
    {
     "data": {
      "text/plain": [
       "CLPE(centrality_measure='degree',\n",
       "     feature_ids=['1', '2', '3', '4', '5', '7', '8', '9', '10', '11', '12',\n",
       "                  '13', '14', '16', '17', '18', '19', '20', '21', '22', '23',\n",
       "                  '24', '25', '26', '27', '30', '31', '32', '33', '34', ...],\n",
       "     heat_kernel_param=2.0, network_type='correlation', normalize_rows=0.0,\n",
       "     pathway_files='/data4/mankovic/De-Identified_CZ/deidentified_fcpw.csv')"
      ]
     },
     "execution_count": 3,
     "metadata": {},
     "output_type": "execute_result"
    }
   ],
   "source": [
    "my_other_clpe = GLPE.CLPE(centrality_measure = 'degree', \n",
    "                    network_type = 'correlation',\n",
    "                    feature_ids = list(Z40_data.columns),\n",
    "                    pathway_files = '/data4/mankovic/De-Identified_CZ/deidentified_fcpw.csv',\n",
    "                    directed = False,\n",
    "                    heat_kernel_param=2,\n",
    "                    normalize_rows=False)\n",
    "my_other_clpe"
   ]
  },
  {
   "cell_type": "code",
   "execution_count": 4,
   "metadata": {},
   "outputs": [
    {
     "data": {
      "text/plain": [
       "28068"
      ]
     },
     "execution_count": 4,
     "metadata": {},
     "output_type": "execute_result"
    }
   ],
   "source": [
    "len(list(Z40_data.columns))"
   ]
  },
  {
   "cell_type": "code",
   "execution_count": 5,
   "metadata": {},
   "outputs": [
    {
     "data": {
      "text/plain": [
       "CLPE(centrality_measure='degree',\n",
       "     feature_ids=['1', '2', '3', '4', '5', '7', '8', '9', '10', '11', '12',\n",
       "                  '13', '14', '16', '17', '18', '19', '20', '21', '22', '23',\n",
       "                  '24', '25', '26', '27', '30', '31', '32', '33', '34', ...],\n",
       "     heat_kernel_param=2.0, network_type='correlation', normalize_rows=0.0,\n",
       "     pathway_files='/data4/mankovic/De-Identified_CZ/deidentified_fcpw.csv')"
      ]
     },
     "execution_count": 5,
     "metadata": {},
     "output_type": "execute_result"
    }
   ],
   "source": [
    "my_other_clpe.fit(np.array(Z40_data))"
   ]
  },
  {
   "cell_type": "code",
   "execution_count": 9,
   "metadata": {},
   "outputs": [
    {
     "data": {
      "text/plain": [
       "(85521.4158050756, (1979, 28068), array([    8, 28068]))"
      ]
     },
     "execution_count": 9,
     "metadata": {},
     "output_type": "execute_result"
    }
   ],
   "source": [
    "np.sum(my_other_clpe.pathway_transition_matrix_), my_other_clpe.pathway_transition_matrix.shape, np.array(Z40_data.shape)"
   ]
  },
  {
   "cell_type": "code",
   "execution_count": null,
   "metadata": {},
   "outputs": [],
   "source": []
  },
  {
   "cell_type": "code",
   "execution_count": null,
   "metadata": {},
   "outputs": [],
   "source": []
  }
 ],
 "metadata": {
  "interpreter": {
   "hash": "9a16b7d45e15add018271b8879906ed388208b17729257166cad5f2212e101aa"
  },
  "kernelspec": {
   "display_name": "Python 3.8.8 64-bit ('base': conda)",
   "name": "python3"
  },
  "language_info": {
   "codemirror_mode": {
    "name": "ipython",
    "version": 3
   },
   "file_extension": ".py",
   "mimetype": "text/x-python",
   "name": "python",
   "nbconvert_exporter": "python",
   "pygments_lexer": "ipython3",
   "version": "3.8.8"
  },
  "orig_nbformat": 4
 },
 "nbformat": 4,
 "nbformat_minor": 2
}
