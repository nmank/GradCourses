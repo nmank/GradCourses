{
 "cells": [
  {
   "cell_type": "code",
   "execution_count": 1,
   "metadata": {},
   "outputs": [],
   "source": [
    "import GLPE\n",
    "#https://github.com/ekehoe32/orthrus\n",
    "import sys\n",
    "sys.path.append('/home/katrina/a/mankovic/ZOETIS/Fall2021/Orthrus/orthrus')\n",
    "import orthrus\n",
    "from orthrus import core\n",
    "from orthrus.core import dataset\n",
    "import numpy as np\n",
    "# from NetworkDataAnalysis import graph_tools_construction as gt\n",
    "from matplotlib import pyplot as plt\n",
    "import pandas\n",
    "# from orthrus.core.pipeline import *\n",
    "from sklearn.preprocessing import FunctionTransformer\n",
    "from orthrus.preprocessing.imputation import HalfMinimum\n",
    "from sklearn.pipeline import make_pipeline\n",
    "from sklearn.decomposition import PCA\n",
    "from orthrus.core.helper import load_object"
   ]
  },
  {
   "cell_type": "code",
   "execution_count": 2,
   "metadata": {},
   "outputs": [
    {
     "data": {
      "text/plain": [
       "array([[4013, 1687, 'directed', 'R-HSA-1059683'],\n",
       "       [4013, 1687, 'undirected', 'R-HSA-1059683'],\n",
       "       [4013, 1594, 'directed', 'R-HSA-1059683'],\n",
       "       ...,\n",
       "       [7555, 1727, 'undirected', 'R-HSA-997272'],\n",
       "       [7555, 1728, 'undirected', 'R-HSA-997272'],\n",
       "       [7555, 1118, 'undirected', 'R-HSA-997272']], dtype=object)"
      ]
     },
     "execution_count": 2,
     "metadata": {},
     "output_type": "execute_result"
    }
   ],
   "source": [
    "#load incidence data\n",
    "pathway_edges = pandas.read_csv('/data3/darpa/omics_databases/ensembl2pathway/reactome_human_pathway_edges.csv').dropna()\n",
    "\n",
    "incidence_data = np.array(pathway_edges)[:,[2,4,5,7]]\n",
    "\n",
    "node_ids = np.unique(incidence_data[:,:2])\n",
    "translate_dict = { node_ids[i] :i  for i in range(len(node_ids))}\n",
    "incidence_data[:,:2] = np.vectorize(translate_dict.get)(incidence_data[:,:2])\n",
    "\n",
    "incidence_data"
   ]
  },
  {
   "cell_type": "code",
   "execution_count": 3,
   "metadata": {},
   "outputs": [
    {
     "data": {
      "text/plain": [
       "CLPE(centrality_measure='degree', heat_kernel_param=2.0,\n",
       "     incidence_matrix=array([[4013, 1687, 'directed', 'R-HSA-1059683'],\n",
       "       [4013, 1687, 'undirected', 'R-HSA-1059683'],\n",
       "       [4013, 1594, 'directed', 'R-HSA-1059683'],\n",
       "       ...,\n",
       "       [7555, 1727, 'undirected', 'R-HSA-997272'],\n",
       "       [7555, 1728, 'undirected', 'R-HSA-997272'],\n",
       "       [7555, 1118, 'undirected', 'R-HSA-997272']], dtype=object),\n",
       "     network_type='precomputed')"
      ]
     },
     "execution_count": 3,
     "metadata": {},
     "output_type": "execute_result"
    }
   ],
   "source": [
    "my_clpe = GLPE.CLPE('degree', 'precomputed',incidence_data, heat_kernel_param = 2)\n",
    "my_clpe"
   ]
  },
  {
   "cell_type": "code",
   "execution_count": 4,
   "metadata": {},
   "outputs": [
    {
     "name": "stdout",
     "output_type": "stream",
     "text": [
      "[404 1594 1595 1596 1686 1687 2652 3141 3143 3388 4013]\n"
     ]
    },
    {
     "ename": "IndexError",
     "evalue": "arrays used as indices must be of integer (or boolean) type",
     "output_type": "error",
     "traceback": [
      "\u001b[0;31m---------------------------------------------------------------------------\u001b[0m",
      "\u001b[0;31mIndexError\u001b[0m                                Traceback (most recent call last)",
      "\u001b[0;32m/tmp/ipykernel_20289/2190162698.py\u001b[0m in \u001b[0;36m<module>\u001b[0;34m\u001b[0m\n\u001b[0;32m----> 1\u001b[0;31m \u001b[0mmy_clpe\u001b[0m\u001b[0;34m.\u001b[0m\u001b[0mfit\u001b[0m\u001b[0;34m(\u001b[0m\u001b[0;34m)\u001b[0m\u001b[0;34m\u001b[0m\u001b[0;34m\u001b[0m\u001b[0m\n\u001b[0m",
      "\u001b[0;32m~/ZOETIS/Fall2021/NetworkDataAnalysis/GLPE.py\u001b[0m in \u001b[0;36mfit\u001b[0;34m(self, X, y)\u001b[0m\n\u001b[1;32m    211\u001b[0m             \u001b[0mprint\u001b[0m\u001b[0;34m(\u001b[0m\u001b[0mfeature_idx\u001b[0m\u001b[0;34m)\u001b[0m\u001b[0;34m\u001b[0m\u001b[0;34m\u001b[0m\u001b[0m\n\u001b[1;32m    212\u001b[0m \u001b[0;34m\u001b[0m\u001b[0m\n\u001b[0;32m--> 213\u001b[0;31m             \u001b[0mscore_row\u001b[0m\u001b[0;34m[\u001b[0m\u001b[0mnp\u001b[0m\u001b[0;34m.\u001b[0m\u001b[0marray\u001b[0m\u001b[0;34m(\u001b[0m\u001b[0mfeature_idx\u001b[0m\u001b[0;34m)\u001b[0m\u001b[0;34m]\u001b[0m \u001b[0;34m=\u001b[0m \u001b[0mscores\u001b[0m\u001b[0;34m\u001b[0m\u001b[0;34m\u001b[0m\u001b[0m\n\u001b[0m\u001b[1;32m    214\u001b[0m \u001b[0;34m\u001b[0m\u001b[0m\n\u001b[1;32m    215\u001b[0m             \u001b[0;31m#add to pathway_transition_matrix\u001b[0m\u001b[0;34m\u001b[0m\u001b[0;34m\u001b[0m\u001b[0;34m\u001b[0m\u001b[0m\n",
      "\u001b[0;31mIndexError\u001b[0m: arrays used as indices must be of integer (or boolean) type"
     ]
    }
   ],
   "source": [
    "my_clpe.fit()"
   ]
  },
  {
   "cell_type": "code",
   "execution_count": 5,
   "metadata": {},
   "outputs": [
    {
     "data": {
      "text/plain": [
       "array([1, 2])"
      ]
     },
     "execution_count": 5,
     "metadata": {},
     "output_type": "execute_result"
    }
   ],
   "source": []
  },
  {
   "cell_type": "code",
   "execution_count": null,
   "metadata": {},
   "outputs": [],
   "source": [
    "#load data\n",
    "Z40_dataset = dataset.load_dataset('/data4/mankovic/De-Identified_CZ/DeId_TPM_C1_Z40_Z34.ds')\n",
    "Z40_dataset.metadata = Z40_dataset.metadata.query(\"Project == 'Z40' & Treatment == 'High' & Timepoint == 0.0\")\n",
    "sidx = list(Z40_dataset.metadata.index)\n",
    "Z40_dataset.data = Z40_dataset.data.loc[sidx]\n",
    "\n",
    "#transform data (according to Kartikay)\n",
    "transform = make_pipeline(HalfMinimum(missing_values=0), FunctionTransformer(np.log2))\n",
    "Z40_dataset.normalize(transform, norm_name='HalfMinimum + Log2')\n",
    "Z40_data = Z40_dataset.data\n",
    "\n",
    "#which genes are in which pathways\n",
    "pathway_data = pandas.read_csv('/data4/mankovic/De-Identified_CZ/deidentified_fcpw.csv')\n",
    "\n",
    "#restrict pathway data to to genes that are actually there\n",
    "pathway_data = pathway_data[['RandID']+list(Z40_data.columns)]\n"
   ]
  },
  {
   "cell_type": "code",
   "execution_count": null,
   "metadata": {},
   "outputs": [],
   "source": [
    "better_pathway_data=pandas.DataFrame(columns = ['feature_id', 'pathway_id'])\n",
    "gene_names = pathway_data.columns\n",
    "for row in np.array(pathway_data):\n",
    "    idx = np.where(row == True)\n",
    "    # print(row)\n",
    "    for g in gene_names[idx]:\n",
    "        better_pathway_data = better_pathway_data.append({'feature_id': int(g), 'pathway_id':row[0]}, ignore_index = True)\n"
   ]
  },
  {
   "cell_type": "code",
   "execution_count": null,
   "metadata": {},
   "outputs": [],
   "source": [
    "better_pathway_data = np.array(better_pathway_data)\n",
    "\n",
    "node_ids = np.unique(better_pathway_data[:,0])\n",
    "\n",
    "translate_dict = { node_ids[i] :i  for i in range(len(node_ids))}\n",
    "better_pathway_data[:,0] = np.vectorize(translate_dict.get)(better_pathway_data[:,0])"
   ]
  },
  {
   "cell_type": "code",
   "execution_count": 5,
   "metadata": {},
   "outputs": [
    {
     "ename": "NameError",
     "evalue": "name 'better_pathway_data' is not defined",
     "output_type": "error",
     "traceback": [
      "\u001b[0;31m---------------------------------------------------------------------------\u001b[0m",
      "\u001b[0;31mNameError\u001b[0m                                 Traceback (most recent call last)",
      "\u001b[0;32m/tmp/ipykernel_20002/1692500651.py\u001b[0m in \u001b[0;36m<module>\u001b[0;34m\u001b[0m\n\u001b[0;32m----> 1\u001b[0;31m \u001b[0mnp\u001b[0m\u001b[0;34m.\u001b[0m\u001b[0munique\u001b[0m\u001b[0;34m(\u001b[0m\u001b[0mbetter_pathway_data\u001b[0m\u001b[0;34m[\u001b[0m\u001b[0;34m:\u001b[0m\u001b[0;34m,\u001b[0m\u001b[0;36m0\u001b[0m\u001b[0;34m]\u001b[0m\u001b[0;34m)\u001b[0m\u001b[0;34m\u001b[0m\u001b[0;34m\u001b[0m\u001b[0m\n\u001b[0m",
      "\u001b[0;31mNameError\u001b[0m: name 'better_pathway_data' is not defined"
     ]
    }
   ],
   "source": [
    "np.unique(better_pathway_data[:,0])"
   ]
  },
  {
   "cell_type": "code",
   "execution_count": 6,
   "metadata": {},
   "outputs": [
    {
     "ename": "NameError",
     "evalue": "name 'better_pathway_data' is not defined",
     "output_type": "error",
     "traceback": [
      "\u001b[0;31m---------------------------------------------------------------------------\u001b[0m",
      "\u001b[0;31mNameError\u001b[0m                                 Traceback (most recent call last)",
      "\u001b[0;32m/tmp/ipykernel_20002/377706902.py\u001b[0m in \u001b[0;36m<module>\u001b[0;34m\u001b[0m\n\u001b[1;32m      1\u001b[0m my_clpe = GLPE.CLPE('degree', \n\u001b[1;32m      2\u001b[0m                     \u001b[0;34m'correlation'\u001b[0m\u001b[0;34m,\u001b[0m\u001b[0;34m\u001b[0m\u001b[0;34m\u001b[0m\u001b[0m\n\u001b[0;32m----> 3\u001b[0;31m                     \u001b[0mbetter_pathway_data\u001b[0m\u001b[0;34m,\u001b[0m\u001b[0;34m\u001b[0m\u001b[0;34m\u001b[0m\u001b[0m\n\u001b[0m\u001b[1;32m      4\u001b[0m                     heat_kernel_param = 2)\n\u001b[1;32m      5\u001b[0m \u001b[0mmy_clpe\u001b[0m\u001b[0;34m\u001b[0m\u001b[0;34m\u001b[0m\u001b[0m\n",
      "\u001b[0;31mNameError\u001b[0m: name 'better_pathway_data' is not defined"
     ]
    }
   ],
   "source": [
    "my_clpe = GLPE.CLPE('degree', \n",
    "                    'correlation',\n",
    "                    better_pathway_data, \n",
    "                    heat_kernel_param = 2)\n",
    "my_clpe"
   ]
  },
  {
   "cell_type": "code",
   "execution_count": 94,
   "metadata": {},
   "outputs": [
    {
     "data": {
      "text/plain": [
       "(8, 8800)"
      ]
     },
     "execution_count": 94,
     "metadata": {},
     "output_type": "execute_result"
    }
   ],
   "source": [
    "small_dataset = np.array(Z40_data[node_ids.astype(str)])\n",
    "small_dataset.shape"
   ]
  },
  {
   "cell_type": "code",
   "execution_count": 95,
   "metadata": {},
   "outputs": [
    {
     "ename": "IndexError",
     "evalue": "arrays used as indices must be of integer (or boolean) type",
     "output_type": "error",
     "traceback": [
      "\u001b[0;31m---------------------------------------------------------------------------\u001b[0m",
      "\u001b[0;31mIndexError\u001b[0m                                Traceback (most recent call last)",
      "\u001b[0;32m/tmp/ipykernel_15526/3074850923.py\u001b[0m in \u001b[0;36m<module>\u001b[0;34m\u001b[0m\n\u001b[0;32m----> 1\u001b[0;31m \u001b[0mmy_clpe\u001b[0m\u001b[0;34m.\u001b[0m\u001b[0mfit\u001b[0m\u001b[0;34m(\u001b[0m\u001b[0msmall_dataset\u001b[0m\u001b[0;34m)\u001b[0m\u001b[0;34m\u001b[0m\u001b[0;34m\u001b[0m\u001b[0m\n\u001b[0m",
      "\u001b[0;32m~/ZOETIS/Fall2021/NetworkDataAnalysis/GLPE.py\u001b[0m in \u001b[0;36mfit\u001b[0;34m(self, X, y)\u001b[0m\n\u001b[1;32m    168\u001b[0m             \u001b[0mA\u001b[0m \u001b[0;34m=\u001b[0m \u001b[0mgt\u001b[0m\u001b[0;34m.\u001b[0m\u001b[0madjacency_matrix\u001b[0m\u001b[0;34m(\u001b[0m\u001b[0mpathway_data\u001b[0m\u001b[0;34m,\u001b[0m \u001b[0mself\u001b[0m\u001b[0;34m.\u001b[0m\u001b[0mnetwork_type_\u001b[0m\u001b[0;34m,\u001b[0m \u001b[0mh_k_param\u001b[0m \u001b[0;34m=\u001b[0m \u001b[0mself\u001b[0m\u001b[0;34m.\u001b[0m\u001b[0mheat_kernel_param_\u001b[0m\u001b[0;34m)\u001b[0m\u001b[0;34m\u001b[0m\u001b[0;34m\u001b[0m\u001b[0m\n\u001b[1;32m    169\u001b[0m \u001b[0;34m\u001b[0m\u001b[0m\n\u001b[0;32m--> 170\u001b[0;31m         \u001b[0mfeature_idx\u001b[0m \u001b[0;34m=\u001b[0m \u001b[0mnp\u001b[0m\u001b[0;34m.\u001b[0m\u001b[0marray\u001b[0m\u001b[0;34m(\u001b[0m\u001b[0mfeature_idx\u001b[0m\u001b[0;34m)\u001b[0m\u001b[0;34m.\u001b[0m\u001b[0mastype\u001b[0m\u001b[0;34m(\u001b[0m\u001b[0mint\u001b[0m\u001b[0;34m)\u001b[0m\u001b[0;34m\u001b[0m\u001b[0;34m\u001b[0m\u001b[0m\n\u001b[0m\u001b[1;32m    171\u001b[0m \u001b[0;34m\u001b[0m\u001b[0m\n\u001b[1;32m    172\u001b[0m         \u001b[0;32mreturn\u001b[0m \u001b[0mA\u001b[0m\u001b[0;34m,\u001b[0m \u001b[0mfeature_idx\u001b[0m\u001b[0;34m\u001b[0m\u001b[0;34m\u001b[0m\u001b[0m\n",
      "\u001b[0;32m~/ZOETIS/Fall2021/NetworkDataAnalysis/GLPE.py\u001b[0m in \u001b[0;36mgenerate_adjacency_matrix\u001b[0;34m(self, X, pathway_name)\u001b[0m\n\u001b[1;32m    128\u001b[0m         \u001b[0mOtherwise\u001b[0m\u001b[0;34m,\u001b[0m \u001b[0muse\u001b[0m \u001b[0mnetwork_type\u001b[0m \u001b[0mto\u001b[0m \u001b[0mgenerate\u001b[0m \u001b[0mthe\u001b[0m \u001b[0madjacency\u001b[0m \u001b[0mmatrix\u001b[0m \u001b[0musing\u001b[0m \u001b[0mX\u001b[0m\u001b[0;34m.\u001b[0m\u001b[0;34m\u001b[0m\u001b[0;34m\u001b[0m\u001b[0m\n\u001b[1;32m    129\u001b[0m \u001b[0;34m\u001b[0m\u001b[0m\n\u001b[0;32m--> 130\u001b[0;31m \u001b[0;34m\u001b[0m\u001b[0m\n\u001b[0m\u001b[1;32m    131\u001b[0m         \u001b[0mInputs\u001b[0m\u001b[0;34m:\u001b[0m\u001b[0;34m\u001b[0m\u001b[0;34m\u001b[0m\u001b[0m\n\u001b[1;32m    132\u001b[0m             \u001b[0mX\u001b[0m \u001b[0;34m(\u001b[0m\u001b[0mnumpy\u001b[0m \u001b[0marray\u001b[0m\u001b[0;34m)\u001b[0m\u001b[0;34m:\u001b[0m \u001b[0mA\u001b[0m \u001b[0mdata\u001b[0m \u001b[0mmatrix\u001b[0m\u001b[0;34m.\u001b[0m \u001b[0;34m(\u001b[0m\u001b[0mfeature\u001b[0m \u001b[0mx\u001b[0m \u001b[0msubject\u001b[0m\u001b[0;34m)\u001b[0m\u001b[0;34m\u001b[0m\u001b[0;34m\u001b[0m\u001b[0m\n",
      "\u001b[0;31mIndexError\u001b[0m: arrays used as indices must be of integer (or boolean) type"
     ]
    }
   ],
   "source": [
    "my_clpe.fit(small_dataset)"
   ]
  },
  {
   "cell_type": "code",
   "execution_count": 67,
   "metadata": {},
   "outputs": [
    {
     "data": {
      "text/html": [
       "<div>\n",
       "<style scoped>\n",
       "    .dataframe tbody tr th:only-of-type {\n",
       "        vertical-align: middle;\n",
       "    }\n",
       "\n",
       "    .dataframe tbody tr th {\n",
       "        vertical-align: top;\n",
       "    }\n",
       "\n",
       "    .dataframe thead th {\n",
       "        text-align: right;\n",
       "    }\n",
       "</style>\n",
       "<table border=\"1\" class=\"dataframe\">\n",
       "  <thead>\n",
       "    <tr style=\"text-align: right;\">\n",
       "      <th></th>\n",
       "      <th>2</th>\n",
       "      <th>3</th>\n",
       "      <th>7</th>\n",
       "      <th>21</th>\n",
       "      <th>25</th>\n",
       "      <th>32</th>\n",
       "      <th>37</th>\n",
       "      <th>41</th>\n",
       "      <th>43</th>\n",
       "      <th>56</th>\n",
       "      <th>...</th>\n",
       "      <th>35545</th>\n",
       "      <th>35546</th>\n",
       "      <th>35549</th>\n",
       "      <th>35551</th>\n",
       "      <th>35554</th>\n",
       "      <th>35555</th>\n",
       "      <th>35564</th>\n",
       "      <th>35577</th>\n",
       "      <th>35586</th>\n",
       "      <th>35588</th>\n",
       "    </tr>\n",
       "    <tr>\n",
       "      <th>SeqID</th>\n",
       "      <th></th>\n",
       "      <th></th>\n",
       "      <th></th>\n",
       "      <th></th>\n",
       "      <th></th>\n",
       "      <th></th>\n",
       "      <th></th>\n",
       "      <th></th>\n",
       "      <th></th>\n",
       "      <th></th>\n",
       "      <th></th>\n",
       "      <th></th>\n",
       "      <th></th>\n",
       "      <th></th>\n",
       "      <th></th>\n",
       "      <th></th>\n",
       "      <th></th>\n",
       "      <th></th>\n",
       "      <th></th>\n",
       "      <th></th>\n",
       "      <th></th>\n",
       "    </tr>\n",
       "  </thead>\n",
       "  <tbody>\n",
       "    <tr>\n",
       "      <th>59</th>\n",
       "      <td>4.771260</td>\n",
       "      <td>3.306837</td>\n",
       "      <td>-0.430099</td>\n",
       "      <td>-5.877244</td>\n",
       "      <td>0.949691</td>\n",
       "      <td>3.793892</td>\n",
       "      <td>1.961236</td>\n",
       "      <td>5.145107</td>\n",
       "      <td>-11.122444</td>\n",
       "      <td>-0.137262</td>\n",
       "      <td>...</td>\n",
       "      <td>4.957056</td>\n",
       "      <td>-11.122444</td>\n",
       "      <td>1.600476</td>\n",
       "      <td>3.328092</td>\n",
       "      <td>4.375704</td>\n",
       "      <td>4.320733</td>\n",
       "      <td>3.070634</td>\n",
       "      <td>0.367303</td>\n",
       "      <td>-0.894545</td>\n",
       "      <td>3.125156</td>\n",
       "    </tr>\n",
       "    <tr>\n",
       "      <th>142</th>\n",
       "      <td>4.926443</td>\n",
       "      <td>3.847411</td>\n",
       "      <td>1.556034</td>\n",
       "      <td>-11.122444</td>\n",
       "      <td>1.821752</td>\n",
       "      <td>5.025138</td>\n",
       "      <td>-0.429007</td>\n",
       "      <td>4.663432</td>\n",
       "      <td>-11.122444</td>\n",
       "      <td>0.184182</td>\n",
       "      <td>...</td>\n",
       "      <td>4.977735</td>\n",
       "      <td>-11.122444</td>\n",
       "      <td>-0.608851</td>\n",
       "      <td>3.449023</td>\n",
       "      <td>4.531042</td>\n",
       "      <td>4.642691</td>\n",
       "      <td>2.682643</td>\n",
       "      <td>-0.575481</td>\n",
       "      <td>-1.971421</td>\n",
       "      <td>3.190132</td>\n",
       "    </tr>\n",
       "    <tr>\n",
       "      <th>32</th>\n",
       "      <td>5.185960</td>\n",
       "      <td>1.998647</td>\n",
       "      <td>-0.844895</td>\n",
       "      <td>-11.122444</td>\n",
       "      <td>-1.079161</td>\n",
       "      <td>3.907851</td>\n",
       "      <td>1.227618</td>\n",
       "      <td>4.434688</td>\n",
       "      <td>-11.122444</td>\n",
       "      <td>-0.609347</td>\n",
       "      <td>...</td>\n",
       "      <td>5.526824</td>\n",
       "      <td>-11.122444</td>\n",
       "      <td>-0.750304</td>\n",
       "      <td>3.937724</td>\n",
       "      <td>4.464742</td>\n",
       "      <td>5.024518</td>\n",
       "      <td>3.748742</td>\n",
       "      <td>-0.065698</td>\n",
       "      <td>-3.697836</td>\n",
       "      <td>4.102546</td>\n",
       "    </tr>\n",
       "    <tr>\n",
       "      <th>49</th>\n",
       "      <td>4.948433</td>\n",
       "      <td>2.242355</td>\n",
       "      <td>-1.188118</td>\n",
       "      <td>-11.122444</td>\n",
       "      <td>-0.431765</td>\n",
       "      <td>4.796046</td>\n",
       "      <td>0.653879</td>\n",
       "      <td>4.917976</td>\n",
       "      <td>-2.041450</td>\n",
       "      <td>0.266001</td>\n",
       "      <td>...</td>\n",
       "      <td>5.100068</td>\n",
       "      <td>-11.122444</td>\n",
       "      <td>-0.253467</td>\n",
       "      <td>2.709331</td>\n",
       "      <td>4.255977</td>\n",
       "      <td>4.634620</td>\n",
       "      <td>3.105601</td>\n",
       "      <td>1.724761</td>\n",
       "      <td>-3.353003</td>\n",
       "      <td>3.461577</td>\n",
       "    </tr>\n",
       "    <tr>\n",
       "      <th>87</th>\n",
       "      <td>4.506263</td>\n",
       "      <td>3.133793</td>\n",
       "      <td>0.326779</td>\n",
       "      <td>-11.122444</td>\n",
       "      <td>0.763496</td>\n",
       "      <td>3.853767</td>\n",
       "      <td>-0.333725</td>\n",
       "      <td>4.990898</td>\n",
       "      <td>-11.122444</td>\n",
       "      <td>0.207314</td>\n",
       "      <td>...</td>\n",
       "      <td>4.419336</td>\n",
       "      <td>-11.122444</td>\n",
       "      <td>-0.071146</td>\n",
       "      <td>3.470666</td>\n",
       "      <td>3.919040</td>\n",
       "      <td>4.314086</td>\n",
       "      <td>2.529508</td>\n",
       "      <td>0.332174</td>\n",
       "      <td>-1.170681</td>\n",
       "      <td>2.969810</td>\n",
       "    </tr>\n",
       "    <tr>\n",
       "      <th>121</th>\n",
       "      <td>5.025321</td>\n",
       "      <td>2.701623</td>\n",
       "      <td>0.985288</td>\n",
       "      <td>-11.122444</td>\n",
       "      <td>-0.818277</td>\n",
       "      <td>4.012470</td>\n",
       "      <td>3.221230</td>\n",
       "      <td>4.618955</td>\n",
       "      <td>-11.122444</td>\n",
       "      <td>-0.263575</td>\n",
       "      <td>...</td>\n",
       "      <td>4.682129</td>\n",
       "      <td>-11.122444</td>\n",
       "      <td>1.036041</td>\n",
       "      <td>3.327315</td>\n",
       "      <td>4.517733</td>\n",
       "      <td>4.496779</td>\n",
       "      <td>2.928541</td>\n",
       "      <td>0.001648</td>\n",
       "      <td>-4.159419</td>\n",
       "      <td>4.038905</td>\n",
       "    </tr>\n",
       "    <tr>\n",
       "      <th>105</th>\n",
       "      <td>4.684124</td>\n",
       "      <td>2.794659</td>\n",
       "      <td>1.101675</td>\n",
       "      <td>-11.122444</td>\n",
       "      <td>0.160606</td>\n",
       "      <td>5.128857</td>\n",
       "      <td>2.114092</td>\n",
       "      <td>4.454728</td>\n",
       "      <td>-11.122444</td>\n",
       "      <td>-0.217578</td>\n",
       "      <td>...</td>\n",
       "      <td>4.979373</td>\n",
       "      <td>-11.122444</td>\n",
       "      <td>-0.873107</td>\n",
       "      <td>3.607600</td>\n",
       "      <td>4.469733</td>\n",
       "      <td>4.322489</td>\n",
       "      <td>2.858515</td>\n",
       "      <td>0.317804</td>\n",
       "      <td>-1.721104</td>\n",
       "      <td>3.395859</td>\n",
       "    </tr>\n",
       "    <tr>\n",
       "      <th>23</th>\n",
       "      <td>4.523279</td>\n",
       "      <td>3.275668</td>\n",
       "      <td>0.508358</td>\n",
       "      <td>-11.122444</td>\n",
       "      <td>-0.837553</td>\n",
       "      <td>3.076831</td>\n",
       "      <td>3.051082</td>\n",
       "      <td>5.143041</td>\n",
       "      <td>-11.122444</td>\n",
       "      <td>-0.583468</td>\n",
       "      <td>...</td>\n",
       "      <td>4.222662</td>\n",
       "      <td>-11.122444</td>\n",
       "      <td>1.204022</td>\n",
       "      <td>3.364945</td>\n",
       "      <td>3.829530</td>\n",
       "      <td>4.064971</td>\n",
       "      <td>2.657011</td>\n",
       "      <td>-1.290408</td>\n",
       "      <td>-4.041191</td>\n",
       "      <td>2.886819</td>\n",
       "    </tr>\n",
       "  </tbody>\n",
       "</table>\n",
       "<p>8 rows × 8800 columns</p>\n",
       "</div>"
      ],
      "text/plain": [
       "              2         3         7         21        25        32        37  \\\n",
       "SeqID                                                                          \n",
       "59     4.771260  3.306837 -0.430099  -5.877244  0.949691  3.793892  1.961236   \n",
       "142    4.926443  3.847411  1.556034 -11.122444  1.821752  5.025138 -0.429007   \n",
       "32     5.185960  1.998647 -0.844895 -11.122444 -1.079161  3.907851  1.227618   \n",
       "49     4.948433  2.242355 -1.188118 -11.122444 -0.431765  4.796046  0.653879   \n",
       "87     4.506263  3.133793  0.326779 -11.122444  0.763496  3.853767 -0.333725   \n",
       "121    5.025321  2.701623  0.985288 -11.122444 -0.818277  4.012470  3.221230   \n",
       "105    4.684124  2.794659  1.101675 -11.122444  0.160606  5.128857  2.114092   \n",
       "23     4.523279  3.275668  0.508358 -11.122444 -0.837553  3.076831  3.051082   \n",
       "\n",
       "             41         43        56  ...     35545      35546     35549  \\\n",
       "SeqID                                 ...                                  \n",
       "59     5.145107 -11.122444 -0.137262  ...  4.957056 -11.122444  1.600476   \n",
       "142    4.663432 -11.122444  0.184182  ...  4.977735 -11.122444 -0.608851   \n",
       "32     4.434688 -11.122444 -0.609347  ...  5.526824 -11.122444 -0.750304   \n",
       "49     4.917976  -2.041450  0.266001  ...  5.100068 -11.122444 -0.253467   \n",
       "87     4.990898 -11.122444  0.207314  ...  4.419336 -11.122444 -0.071146   \n",
       "121    4.618955 -11.122444 -0.263575  ...  4.682129 -11.122444  1.036041   \n",
       "105    4.454728 -11.122444 -0.217578  ...  4.979373 -11.122444 -0.873107   \n",
       "23     5.143041 -11.122444 -0.583468  ...  4.222662 -11.122444  1.204022   \n",
       "\n",
       "          35551     35554     35555     35564     35577     35586     35588  \n",
       "SeqID                                                                        \n",
       "59     3.328092  4.375704  4.320733  3.070634  0.367303 -0.894545  3.125156  \n",
       "142    3.449023  4.531042  4.642691  2.682643 -0.575481 -1.971421  3.190132  \n",
       "32     3.937724  4.464742  5.024518  3.748742 -0.065698 -3.697836  4.102546  \n",
       "49     2.709331  4.255977  4.634620  3.105601  1.724761 -3.353003  3.461577  \n",
       "87     3.470666  3.919040  4.314086  2.529508  0.332174 -1.170681  2.969810  \n",
       "121    3.327315  4.517733  4.496779  2.928541  0.001648 -4.159419  4.038905  \n",
       "105    3.607600  4.469733  4.322489  2.858515  0.317804 -1.721104  3.395859  \n",
       "23     3.364945  3.829530  4.064971  2.657011 -1.290408 -4.041191  2.886819  \n",
       "\n",
       "[8 rows x 8800 columns]"
      ]
     },
     "execution_count": 67,
     "metadata": {},
     "output_type": "execute_result"
    }
   ],
   "source": []
  },
  {
   "cell_type": "code",
   "execution_count": 64,
   "metadata": {},
   "outputs": [
    {
     "data": {
      "text/plain": [
       "array([350, 1392, 1772, ..., 32016, 34450, 35175], dtype=object)"
      ]
     },
     "execution_count": 64,
     "metadata": {},
     "output_type": "execute_result"
    }
   ],
   "source": [
    "np.array(better_pathway_data)[:,0]"
   ]
  },
  {
   "cell_type": "code",
   "execution_count": null,
   "metadata": {},
   "outputs": [],
   "source": []
  }
 ],
 "metadata": {
  "interpreter": {
   "hash": "9a16b7d45e15add018271b8879906ed388208b17729257166cad5f2212e101aa"
  },
  "kernelspec": {
   "display_name": "Python 3.8.8 64-bit ('base': conda)",
   "name": "python3"
  },
  "language_info": {
   "codemirror_mode": {
    "name": "ipython",
    "version": 3
   },
   "file_extension": ".py",
   "mimetype": "text/x-python",
   "name": "python",
   "nbconvert_exporter": "python",
   "pygments_lexer": "ipython3",
   "version": "3.8.8"
  },
  "orig_nbformat": 4
 },
 "nbformat": 4,
 "nbformat_minor": 2
}
