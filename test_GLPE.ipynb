{
 "cells": [
  {
   "cell_type": "code",
   "execution_count": 5,
   "metadata": {},
   "outputs": [],
   "source": [
    "import GLPE\n",
    "#https://github.com/ekehoe32/orthrus\n",
    "import sys\n",
    "sys.path.append('/home/katrina/a/mankovic/ZOETIS/Fall2021/Orthrus/orthrus')\n",
    "import orthrus\n",
    "from orthrus import core\n",
    "from orthrus.core import dataset\n",
    "import numpy as np\n",
    "# from NetworkDataAnalysis import graph_tools_construction as gt\n",
    "from matplotlib import pyplot as plt\n",
    "import pandas\n",
    "# from orthrus.core.pipeline import *\n",
    "from sklearn.preprocessing import FunctionTransformer\n",
    "from orthrus.preprocessing.imputation import HalfMinimum\n",
    "from sklearn.pipeline import make_pipeline\n",
    "from sklearn.decomposition import PCA\n",
    "from orthrus.core.helper import load_object"
   ]
  },
  {
   "cell_type": "code",
   "execution_count": 2,
   "metadata": {},
   "outputs": [
    {
     "data": {
      "text/plain": [
       "array([[4013, 1687, 'directed', 'R-HSA-1059683'],\n",
       "       [4013, 1687, 'undirected', 'R-HSA-1059683'],\n",
       "       [4013, 1594, 'directed', 'R-HSA-1059683'],\n",
       "       ...,\n",
       "       [7555, 1727, 'undirected', 'R-HSA-997272'],\n",
       "       [7555, 1728, 'undirected', 'R-HSA-997272'],\n",
       "       [7555, 1118, 'undirected', 'R-HSA-997272']], dtype=object)"
      ]
     },
     "execution_count": 2,
     "metadata": {},
     "output_type": "execute_result"
    }
   ],
   "source": [
    "#load incidence data\n",
    "pathway_edges = pandas.read_csv('/data3/darpa/omics_databases/ensembl2pathway/reactome_human_pathway_edges.csv').dropna()\n",
    "\n",
    "incidence_data = np.array(pathway_edges)[:,[2,4,5,7]]\n",
    "\n",
    "node_ids = np.unique(incidence_data[:,:2])\n",
    "translate_dict = { node_ids[i] :i  for i in range(len(node_ids))}\n",
    "incidence_data[:,:2] = np.vectorize(translate_dict.get)(incidence_data[:,:2])\n",
    "\n",
    "incidence_data"
   ]
  },
  {
   "cell_type": "code",
   "execution_count": 5,
   "metadata": {},
   "outputs": [
    {
     "data": {
      "text/plain": [
       "CLPE(centrality_measure='degree', heat_kernel_param=2.0,\n",
       "     incidence_matrix=array([[4013, 1687, 'directed', 'R-HSA-1059683'],\n",
       "       [4013, 1687, 'undirected', 'R-HSA-1059683'],\n",
       "       [4013, 1594, 'directed', 'R-HSA-1059683'],\n",
       "       ...,\n",
       "       [7555, 1727, 'undirected', 'R-HSA-997272'],\n",
       "       [7555, 1728, 'undirected', 'R-HSA-997272'],\n",
       "       [7555, 1118, 'undirected', 'R-HSA-997272']], dtype=object),\n",
       "     network_type='precomputed')"
      ]
     },
     "execution_count": 5,
     "metadata": {},
     "output_type": "execute_result"
    }
   ],
   "source": [
    "my_clpe = GLPE.CLPE('degree', 'precomputed',incidence_data, heat_kernel_param = 2)\n",
    "my_clpe"
   ]
  },
  {
   "cell_type": "code",
   "execution_count": 6,
   "metadata": {},
   "outputs": [
    {
     "data": {
      "text/plain": [
       "CLPE(centrality_measure='degree', heat_kernel_param=2.0,\n",
       "     incidence_matrix=array([[4013, 1687, 'directed', 'R-HSA-1059683'],\n",
       "       [4013, 1687, 'undirected', 'R-HSA-1059683'],\n",
       "       [4013, 1594, 'directed', 'R-HSA-1059683'],\n",
       "       ...,\n",
       "       [7555, 1727, 'undirected', 'R-HSA-997272'],\n",
       "       [7555, 1728, 'undirected', 'R-HSA-997272'],\n",
       "       [7555, 1118, 'undirected', 'R-HSA-997272']], dtype=object),\n",
       "     network_type='precomputed')"
      ]
     },
     "execution_count": 6,
     "metadata": {},
     "output_type": "execute_result"
    }
   ],
   "source": [
    "my_clpe.fit()"
   ]
  },
  {
   "cell_type": "code",
   "execution_count": 6,
   "metadata": {},
   "outputs": [],
   "source": [
    "#load data\n",
    "Z40_dataset = dataset.load_dataset('/data4/mankovic/De-Identified_CZ/DeId_TPM_C1_Z40_Z34.ds')\n",
    "Z40_dataset.metadata = Z40_dataset.metadata.query(\"Project == 'Z40' & Treatment == 'High' & Timepoint == 0.0\")\n",
    "sidx = list(Z40_dataset.metadata.index)\n",
    "Z40_dataset.data = Z40_dataset.data.loc[sidx]\n",
    "\n",
    "#transform data (according to Kartikay)\n",
    "transform = make_pipeline(HalfMinimum(missing_values=0), FunctionTransformer(np.log2))\n",
    "Z40_dataset.normalize(transform, norm_name='HalfMinimum + Log2')\n",
    "Z40_data = Z40_dataset.data\n",
    "\n",
    "#which genes are in which pathways\n",
    "pathway_data = pandas.read_csv('/data4/mankovic/De-Identified_CZ/deidentified_fcpw.csv')\n",
    "\n",
    "#restrict pathway data to to genes that are actually there\n",
    "pathway_data = pathway_data[['RandID']+list(Z40_data.columns)]\n"
   ]
  },
  {
   "cell_type": "code",
   "execution_count": null,
   "metadata": {},
   "outputs": [],
   "source": [
    "incidence_data"
   ]
  },
  {
   "cell_type": "code",
   "execution_count": 19,
   "metadata": {},
   "outputs": [],
   "source": [
    "n_nodes = len(nodes)\n",
    "\n",
    "A = np.zeros((n_nodes, n_nodes))\n",
    "\n",
    "for row in pathway_incidence:\n",
    "    i = np.where(nodes == row[0])[0][0]\n",
    "    j = np.where(nodes == row[1])[0][0]\n",
    "    A[i, j] = 1\n",
    "    if row[2] == 'undirected':\n",
    "        A[j, i] = A[i, j].copy()"
   ]
  },
  {
   "cell_type": "code",
   "execution_count": 21,
   "metadata": {},
   "outputs": [
    {
     "data": {
      "text/plain": [
       "<matplotlib.image.AxesImage at 0x7f5990694850>"
      ]
     },
     "execution_count": 21,
     "metadata": {},
     "output_type": "execute_result"
    },
    {
     "data": {
      "image/png": "[encoded data removed]",
      "text/plain": [
       "<Figure size 432x288 with 1 Axes>"
      ]
     },
     "metadata": {
      "needs_background": "light"
     },
     "output_type": "display_data"
    }
   ],
   "source": []
  },
  {
   "cell_type": "code",
   "execution_count": null,
   "metadata": {},
   "outputs": [],
   "source": []
  }
 ],
 "metadata": {
  "interpreter": {
   "hash": "9a16b7d45e15add018271b8879906ed388208b17729257166cad5f2212e101aa"
  },
  "kernelspec": {
   "display_name": "Python 3.8.8 64-bit ('base': conda)",
   "name": "python3"
  },
  "language_info": {
   "codemirror_mode": {
    "name": "ipython",
    "version": 3
   },
   "file_extension": ".py",
   "mimetype": "text/x-python",
   "name": "python",
   "nbconvert_exporter": "python",
   "pygments_lexer": "ipython3",
   "version": "3.8.8"
  },
  "orig_nbformat": 4
 },
 "nbformat": 4,
 "nbformat_minor": 2
}
