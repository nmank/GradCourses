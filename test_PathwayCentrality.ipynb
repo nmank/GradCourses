{
 "cells": [
  {
   "cell_type": "code",
   "execution_count": 1,
   "metadata": {},
   "outputs": [],
   "source": [
    "#https://github.com/ekehoe32/orthrus\n",
    "import sys\n",
    "sys.path.append('/home/katrina/a/mankovic/ZOETIS/Fall2021/Orthrus/orthrus')\n",
    "import orthrus\n",
    "from orthrus import core\n",
    "from orthrus.core import dataset\n",
    "import numpy as np\n",
    "import graph_tools_construction as gt\n",
    "from matplotlib import pyplot as plt\n",
    "import pandas\n",
    "# from orthrus.core.pipeline import *\n",
    "from sklearn.preprocessing import FunctionTransformer\n",
    "from orthrus.preprocessing.imputation import HalfMinimum\n",
    "from sklearn.pipeline import make_pipeline\n",
    "from sklearn.decomposition import PCA\n",
    "from orthrus.core.helper import load_object\n",
    "from sklearn.preprocessing import StandardScaler\n",
    "import os\n",
    "\n",
    "import GLPE"
   ]
  },
  {
   "cell_type": "markdown",
   "metadata": {},
   "source": [
    "# With Z75"
   ]
  },
  {
   "cell_type": "code",
   "execution_count": 2,
   "metadata": {},
   "outputs": [],
   "source": [
    "pathway_data = pandas.read_csv('/data4/mankovic/ZOETIS/felis_catus_pathways.csv')\n",
    "pathway_data = pathway_data.fillna(0)\n",
    "pathway_data= pathway_data.rename(columns={\"Unnamed: 0\": \"ReactomeID\"})\n",
    "\n",
    "\n"
   ]
  },
  {
   "cell_type": "code",
   "execution_count": 3,
   "metadata": {},
   "outputs": [],
   "source": [
    "ds = dataset.load_dataset(os.path.join('/data4/zoetis/Data/TPM_C1_Z34_Z40_Z42_Z75.ds'))\n",
    "sample_ids  = ds.metadata['Project'] == 'Z75'\n",
    "Z75_dataset = ds.slice_dataset(sample_ids=sample_ids)\n",
    "preprocessing_transform = make_pipeline(HalfMinimum(missing_values=0), FunctionTransformer(np.log2), StandardScaler())\n",
    "Z75_data = pandas.DataFrame(data = preprocessing_transform.fit_transform(Z75_dataset.data), columns = Z75_dataset.data.columns, index = Z75_dataset.data.index)\n"
   ]
  },
  {
   "cell_type": "code",
   "execution_count": 4,
   "metadata": {},
   "outputs": [],
   "source": [
    "pathway_data = pathway_data[[\"ReactomeID\"]+list(Z75_data.columns)]\n"
   ]
  },
  {
   "cell_type": "code",
   "execution_count": 5,
   "metadata": {},
   "outputs": [],
   "source": [
    "new_column_dict = dict(zip(pathway_data.columns, [\"ReactomeID\"] + list(range(len(Z75_data.columns)))))\n",
    "de_identified_pathway_data = pathway_data.rename(columns = new_column_dict)"
   ]
  },
  {
   "cell_type": "code",
   "execution_count": 6,
   "metadata": {},
   "outputs": [],
   "source": [
    "better_pathway_data=pandas.DataFrame(columns = ['feature_id', 'pathway_id'])\n",
    "gene_names = de_identified_pathway_data.columns\n",
    "for row in np.array(de_identified_pathway_data):\n",
    "    idx = np.where(row == 1)\n",
    "    # print(row)\n",
    "    for g in gene_names[idx]:\n",
    "        better_pathway_data = better_pathway_data.append({'feature_id': int(g), 'pathway_id':row[0]}, ignore_index = True)\n"
   ]
  },
  {
   "cell_type": "code",
   "execution_count": 7,
   "metadata": {},
   "outputs": [
    {
     "data": {
      "text/plain": [
       "CLPE(centrality_measure='degree', heat_kernel_param=2.0,\n",
       "     incidence_matrix=array([[3984, 'R-HSA-162699'],\n",
       "       [3985, 'R-HSA-162699'],\n",
       "       [3986, 'R-HSA-162699'],\n",
       "       ...,\n",
       "       [20877, 'R-HSA-5603037'],\n",
       "       [26371, 'R-HSA-5603037'],\n",
       "       [26376, 'R-HSA-5603037']], dtype=object),\n",
       "     network_type='correlation', normalize_rows=0.0)"
      ]
     },
     "execution_count": 7,
     "metadata": {},
     "output_type": "execute_result"
    }
   ],
   "source": [
    "my_other_clpe = GLPE.CLPE('degree', \n",
    "                    'correlation',\n",
    "                    better_pathway_data, \n",
    "                    heat_kernel_param = 2,\n",
    "                    normalize_rows = False)\n",
    "my_other_clpe"
   ]
  },
  {
   "cell_type": "code",
   "execution_count": 8,
   "metadata": {},
   "outputs": [
    {
     "data": {
      "text/plain": [
       "CLPE(centrality_measure='degree', heat_kernel_param=2.0,\n",
       "     incidence_matrix=array([[3984, 'R-HSA-162699'],\n",
       "       [3985, 'R-HSA-162699'],\n",
       "       [3986, 'R-HSA-162699'],\n",
       "       ...,\n",
       "       [20877, 'R-HSA-5603037'],\n",
       "       [26371, 'R-HSA-5603037'],\n",
       "       [26376, 'R-HSA-5603037']], dtype=object),\n",
       "     network_type='correlation', normalize_rows=0.0)"
      ]
     },
     "execution_count": 8,
     "metadata": {},
     "output_type": "execute_result"
    }
   ],
   "source": [
    "my_other_clpe.fit(np.array(Z75_data))"
   ]
  },
  {
   "cell_type": "code",
   "execution_count": 9,
   "metadata": {},
   "outputs": [
    {
     "data": {
      "text/plain": [
       "array([    3,    15,    18, ..., 28404, 28407, 28415])"
      ]
     },
     "execution_count": 9,
     "metadata": {},
     "output_type": "execute_result"
    }
   ],
   "source": [
    "featureset = dataset.load_dataset('/data4/sharmak/zoetis/nate/z75_ssvm_feature_set_no_partitioning.pickle')\n",
    "featureset_ids= list(featureset.index)\n",
    "\n",
    "featureset_transition_matrix_ids = np.nonzero(np.in1d(np.array(Z75_data.columns),np.array(featureset_ids)))[0]\n",
    "featureset_transition_matrix_ids"
   ]
  },
  {
   "cell_type": "code",
   "execution_count": 10,
   "metadata": {},
   "outputs": [
    {
     "name": "stdout",
     "output_type": "stream",
     "text": [
      "null trial 0 done\n"
     ]
    }
   ],
   "source": [
    "simple_centrality_scores = my_other_clpe.simple_transform(featureset_transition_matrix_ids, n_null_trials = 10)"
   ]
  },
  {
   "cell_type": "code",
   "execution_count": 11,
   "metadata": {},
   "outputs": [
    {
     "data": {
      "text/html": [
       "<div>\n",
       "<style scoped>\n",
       "    .dataframe tbody tr th:only-of-type {\n",
       "        vertical-align: middle;\n",
       "    }\n",
       "\n",
       "    .dataframe tbody tr th {\n",
       "        vertical-align: top;\n",
       "    }\n",
       "\n",
       "    .dataframe thead th {\n",
       "        text-align: right;\n",
       "    }\n",
       "</style>\n",
       "<table border=\"1\" class=\"dataframe\">\n",
       "  <thead>\n",
       "    <tr style=\"text-align: right;\">\n",
       "      <th></th>\n",
       "      <th>pathway</th>\n",
       "      <th>score</th>\n",
       "      <th>p_val</th>\n",
       "    </tr>\n",
       "  </thead>\n",
       "  <tbody>\n",
       "    <tr>\n",
       "      <th>0</th>\n",
       "      <td>R-HSA-1059683</td>\n",
       "      <td>4.167885</td>\n",
       "      <td>0.0</td>\n",
       "    </tr>\n",
       "    <tr>\n",
       "      <th>1</th>\n",
       "      <td>R-HSA-109581</td>\n",
       "      <td>38.883818</td>\n",
       "      <td>0.0</td>\n",
       "    </tr>\n",
       "    <tr>\n",
       "      <th>2</th>\n",
       "      <td>R-HSA-109582</td>\n",
       "      <td>125.200471</td>\n",
       "      <td>0.0</td>\n",
       "    </tr>\n",
       "    <tr>\n",
       "      <th>3</th>\n",
       "      <td>R-HSA-109606</td>\n",
       "      <td>8.010259</td>\n",
       "      <td>0.1</td>\n",
       "    </tr>\n",
       "    <tr>\n",
       "      <th>4</th>\n",
       "      <td>R-HSA-109704</td>\n",
       "      <td>3.580888</td>\n",
       "      <td>0.8</td>\n",
       "    </tr>\n",
       "    <tr>\n",
       "      <th>...</th>\n",
       "      <td>...</td>\n",
       "      <td>...</td>\n",
       "      <td>...</td>\n",
       "    </tr>\n",
       "    <tr>\n",
       "      <th>1974</th>\n",
       "      <td>R-HSA-983695</td>\n",
       "      <td>11.465562</td>\n",
       "      <td>0.0</td>\n",
       "    </tr>\n",
       "    <tr>\n",
       "      <th>1975</th>\n",
       "      <td>R-HSA-983705</td>\n",
       "      <td>28.883333</td>\n",
       "      <td>0.0</td>\n",
       "    </tr>\n",
       "    <tr>\n",
       "      <th>1976</th>\n",
       "      <td>R-HSA-983712</td>\n",
       "      <td>29.311479</td>\n",
       "      <td>0.0</td>\n",
       "    </tr>\n",
       "    <tr>\n",
       "      <th>1977</th>\n",
       "      <td>R-HSA-991365</td>\n",
       "      <td>5.768671</td>\n",
       "      <td>0.0</td>\n",
       "    </tr>\n",
       "    <tr>\n",
       "      <th>1978</th>\n",
       "      <td>R-HSA-997272</td>\n",
       "      <td>3.624355</td>\n",
       "      <td>0.0</td>\n",
       "    </tr>\n",
       "  </tbody>\n",
       "</table>\n",
       "<p>1979 rows × 3 columns</p>\n",
       "</div>"
      ],
      "text/plain": [
       "            pathway       score  p_val\n",
       "0     R-HSA-1059683    4.167885    0.0\n",
       "1      R-HSA-109581   38.883818    0.0\n",
       "2      R-HSA-109582  125.200471    0.0\n",
       "3      R-HSA-109606    8.010259    0.1\n",
       "4      R-HSA-109704    3.580888    0.8\n",
       "...             ...         ...    ...\n",
       "1974   R-HSA-983695   11.465562    0.0\n",
       "1975   R-HSA-983705   28.883333    0.0\n",
       "1976   R-HSA-983712   29.311479    0.0\n",
       "1977   R-HSA-991365    5.768671    0.0\n",
       "1978   R-HSA-997272    3.624355    0.0\n",
       "\n",
       "[1979 rows x 3 columns]"
      ]
     },
     "execution_count": 11,
     "metadata": {},
     "output_type": "execute_result"
    }
   ],
   "source": [
    "simple_centrality_scores "
   ]
  }
 ],
 "metadata": {
  "interpreter": {
   "hash": "9a16b7d45e15add018271b8879906ed388208b17729257166cad5f2212e101aa"
  },
  "kernelspec": {
   "display_name": "Python 3.8.8 64-bit ('base': conda)",
   "name": "python3"
  },
  "language_info": {
   "codemirror_mode": {
    "name": "ipython",
    "version": 3
   },
   "file_extension": ".py",
   "mimetype": "text/x-python",
   "name": "python",
   "nbconvert_exporter": "python",
   "pygments_lexer": "ipython3",
   "version": "3.8.8"
  },
  "orig_nbformat": 4
 },
 "nbformat": 4,
 "nbformat_minor": 2
}
