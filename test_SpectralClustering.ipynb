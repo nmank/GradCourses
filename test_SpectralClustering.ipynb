{
 "cells": [
  {
   "cell_type": "code",
   "execution_count": 1,
   "metadata": {},
   "outputs": [],
   "source": [
    "\n",
    "#https://github.com/ekehoe32/orthrus\n",
    "import sys\n",
    "sys.path.append('/home/katrina/a/mankovic/ZOETIS/Fall2021/Orthrus/orthrus')\n",
    "import orthrus\n",
    "from orthrus import core\n",
    "from orthrus.core import dataset\n",
    "import numpy as np\n",
    "import graph_tools_construction as gt\n",
    "from matplotlib import pyplot as plt\n",
    "import pandas\n",
    "from orthrus.core.pipeline import *\n",
    "from sklearn.preprocessing import FunctionTransformer\n",
    "from orthrus.preprocessing.imputation import HalfMinimum\n",
    "from sklearn.pipeline import make_pipeline\n",
    "from sklearn.decomposition import PCA\n",
    "\n",
    "import os\n",
    "from sklearn.preprocessing import StandardScaler\n",
    "\n",
    "from SpectralClustering import SpectralClustering\n",
    "  \n"
   ]
  },
  {
   "cell_type": "markdown",
   "metadata": {},
   "source": [
    "# C1"
   ]
  },
  {
   "cell_type": "code",
   "execution_count": 2,
   "metadata": {},
   "outputs": [
    {
     "name": "stdout",
     "output_type": "stream",
     "text": [
      "---------------------------------\n",
      "featureset ifr\n",
      "11 healthy and 13 AD\n",
      "branch 2\n",
      "branch 3\n",
      "branch 4\n"
     ]
    }
   ],
   "source": [
    "dataroot = '/data4/mankovic/'\n",
    "\n",
    "# featuresets = ['ifr', 'sce', 'combined']\n",
    "featuresets = ['ifr']\n",
    "\n",
    "# comparisons = ['correlation', 'zobs', 'heatkernel']\n",
    "comparisons = ['correlation']\n",
    "\n",
    "ds = dataset.load_dataset(os.path.join('/data4/zoetis/Data/TPM_C1_Z34_Z40_Z42_Z75.ds'))\n",
    "sample_ids  = ds.metadata['Project'] == 'C1'\n",
    "\n",
    "for featureset_id in featuresets:\n",
    "    print('---------------------------------')\n",
    "    print(f'featureset {featureset_id}')\n",
    "\n",
    "    feature_ids = dataset.load_dataset('/data4/zoetis/shared/mank_experiments/C1/featuresets/C1_Top50_SSVM_Genes.p') #change this\n",
    "    randIDs= list(feature_ids)\n",
    "\n",
    "\n",
    "    C1_dataset = ds.slice_dataset(sample_ids=sample_ids, feature_ids=randIDs)\n",
    "\n",
    "\n",
    "    preprocessing_transform = make_pipeline(HalfMinimum(missing_values=0), FunctionTransformer(np.log2), StandardScaler())\n",
    "    C1_data = pandas.DataFrame(data = preprocessing_transform.fit_transform(C1_dataset.data), columns = C1_dataset.data.columns, index = C1_dataset.data.index)\n",
    "\n",
    "    #attribute used for classification labels\n",
    "    supervised_attr = 'Diagnosis'\n",
    "\n",
    "    #attribute used for leave-one-group-out cross validation\n",
    "    group_attr = 'AnimalID'\n",
    "\n",
    "    all_randids = list(C1_data.columns)\n",
    "\n",
    "    healthy_seqID = list(C1_dataset.metadata.query(\"Diagnosis == 'healthy'\").index)\n",
    "    ad_seqID = list(C1_dataset.metadata.query(\"Diagnosis != 'healthy'\").index)\n",
    "    print(str(len(healthy_seqID))+' healthy and ' +str(len(ad_seqID))+' AD')\n",
    "    sorted_X = np.vstack([np.array(C1_data.loc[ad_seqID]), np.array(C1_data.loc[healthy_seqID])])\n",
    "\n",
    "    seqID_labels = len(ad_seqID)*['AD']+len(healthy_seqID)*['Healthy']\n",
    "\n",
    "    ii = 0\n",
    "\n",
    "    for compare in comparisons:\n",
    "\n",
    "        my_sc = SpectralClustering(similarity = compare)\n",
    "\n",
    "        binary_labels = np.zeros(len(seqID_labels))\n",
    "        AD_idx = np.where(np.array(seqID_labels) == 'AD')\n",
    "        binary_labels[AD_idx] = 1\n",
    "        my_sc.fit(sorted_X, binary_labels)\n",
    "\n",
    "        nodes, bsrs = my_sc.transform(sorted_X, binary_labels, loo = True, fiedler = True)"
   ]
  },
  {
   "cell_type": "code",
   "execution_count": 6,
   "metadata": {},
   "outputs": [
    {
     "data": {
      "text/plain": [
       "14"
      ]
     },
     "execution_count": 6,
     "metadata": {},
     "output_type": "execute_result"
    }
   ],
   "source": [
    "len(nodes[2])"
   ]
  },
  {
   "cell_type": "code",
   "execution_count": 4,
   "metadata": {},
   "outputs": [],
   "source": [
    "all_them = []\n",
    "for n in nodes:\n",
    "    all_them += list(n)"
   ]
  },
  {
   "cell_type": "code",
   "execution_count": 5,
   "metadata": {},
   "outputs": [
    {
     "data": {
      "text/plain": [
       "21"
      ]
     },
     "execution_count": 5,
     "metadata": {},
     "output_type": "execute_result"
    }
   ],
   "source": [
    "len(all_them)"
   ]
  },
  {
   "cell_type": "code",
   "execution_count": null,
   "metadata": {},
   "outputs": [],
   "source": [
    "all_randids"
   ]
  },
  {
   "cell_type": "code",
   "execution_count": 2,
   "metadata": {},
   "outputs": [],
   "source": [
    "# ds = dataset.load_dataset(os.path.join('/data4/zoetis/Data/TPM_C1_Z34_Z40_Z42_Z75.ds'))\n",
    "# sample_ids  = ds.metadata['Project'] == 'C1'\n",
    "\n",
    "\n",
    "# feature_ids = pd.read_csv('/data4/zoetis/Decks/March_2_2022/results/ssvm_ifr_feature_sets/C1_top_50_ssvm_ifr_features.csv', index_col = 0)\n",
    "# randIDs= list(feature_ids.index)\n",
    "\n",
    "# C1_dataset = ds.slice_dataset(sample_ids=sample_ids, feature_ids=randIDs)\n",
    "\n",
    "\n",
    "# preprocessing_transform = make_pipeline(HalfMinimum(missing_values=0), FunctionTransformer(np.log2), StandardScaler())\n",
    "# C1_data = pandas.DataFrame(data = preprocessing_transform.fit_transform(C1_dataset.data), columns = C1_dataset.data.columns, index = C1_dataset.data.index)\n",
    "\n",
    "# #attribute used for classification labels\n",
    "# supervised_attr = 'Diagnosis'\n",
    "\n",
    "# #attribute used for leave-one-group-out cross validation\n",
    "# group_attr = 'AnimalID'\n",
    "  \n",
    "# all_randids = list(C1_data.columns)\n"
   ]
  },
  {
   "cell_type": "code",
   "execution_count": 3,
   "metadata": {},
   "outputs": [
    {
     "name": "stdout",
     "output_type": "stream",
     "text": [
      "11 healthy and 13 AD\n"
     ]
    },
    {
     "data": {
      "image/png": "[encoded data removed]",
      "text/plain": [
       "<Figure size 432x288 with 1 Axes>"
      ]
     },
     "metadata": {
      "needs_background": "light"
     },
     "output_type": "display_data"
    }
   ],
   "source": [
    "network_data = 'both'\n",
    "\n",
    "#sick healthy sorted X\n",
    "if network_data == 'both':\n",
    "    healthy_seqID = list(C1_dataset.metadata.query(\"Diagnosis == 'healthy'\").index)\n",
    "    ad_seqID = list(C1_dataset.metadata.query(\"Diagnosis != 'healthy'\").index)\n",
    "    print(str(len(healthy_seqID))+' healthy and ' +str(len(ad_seqID))+' AD')\n",
    "    sorted_X = np.vstack([np.array(C1_data.loc[healthy_seqID]), np.array(C1_data.loc[ad_seqID])])\n",
    "    plt.imshow(sorted_X[:,:20].T)\n",
    "    plt.axvline(len(healthy_seqID)-.5,  color = 'white')\n",
    "    plt.show()\n",
    "    seqID_labels = len(healthy_seqID)*['Healthy']+len(ad_seqID)*['AD']\n",
    "else:\n",
    "    sorted_X = np.array(C1_data)"
   ]
  },
  {
   "cell_type": "code",
   "execution_count": 4,
   "metadata": {},
   "outputs": [
    {
     "data": {
      "text/plain": [
       "(24, 50)"
      ]
     },
     "execution_count": 4,
     "metadata": {},
     "output_type": "execute_result"
    }
   ],
   "source": [
    "sorted_X.shape"
   ]
  },
  {
   "cell_type": "code",
   "execution_count": 5,
   "metadata": {},
   "outputs": [],
   "source": [
    "my_sc = SpectralClustering(similarity = compare)"
   ]
  },
  {
   "cell_type": "code",
   "execution_count": 6,
   "metadata": {},
   "outputs": [],
   "source": [
    "binary_labels = np.zeros(len(seqID_labels))\n",
    "AD_idx = np.where(np.array(seqID_labels) == 'AD')\n",
    "binary_labels[AD_idx] = 1\n",
    "my_sc.fit(sorted_X, binary_labels)"
   ]
  },
  {
   "cell_type": "code",
   "execution_count": 7,
   "metadata": {},
   "outputs": [
    {
     "name": "stdout",
     "output_type": "stream",
     "text": [
      "branch 2\n",
      "branch 3\n",
      "branch 4\n",
      "branch 5\n",
      "branch 6\n",
      "branch 7\n",
      "branch 8\n",
      "branch 9\n",
      "branch 10\n"
     ]
    }
   ],
   "source": [
    "nodes, bsrs = my_sc.transform(sorted_X, binary_labels, loso = True, fiedler = True)"
   ]
  },
  {
   "cell_type": "code",
   "execution_count": 8,
   "metadata": {},
   "outputs": [
    {
     "data": {
      "text/plain": [
       "([array([10]),\n",
       "  array([ 0,  8,  9, 18, 38]),\n",
       "  array([12, 17, 30, 40, 41, 47]),\n",
       "  array([13]),\n",
       "  array([11]),\n",
       "  array([33]),\n",
       "  array([23, 28, 29, 31, 43]),\n",
       "  array([ 1,  5, 44]),\n",
       "  array([7])],\n",
       " [1.0, 1.0, 1.0, 1.0, 1.0, 1.0, 1.0, 1.0, 1.0])"
      ]
     },
     "execution_count": 8,
     "metadata": {},
     "output_type": "execute_result"
    }
   ],
   "source": [
    "nodes, bsrs"
   ]
  }
 ],
 "metadata": {
  "interpreter": {
   "hash": "9a16b7d45e15add018271b8879906ed388208b17729257166cad5f2212e101aa"
  },
  "kernelspec": {
   "display_name": "Python 3.8.8 ('base')",
   "language": "python",
   "name": "python3"
  },
  "language_info": {
   "codemirror_mode": {
    "name": "ipython",
    "version": 3
   },
   "file_extension": ".py",
   "mimetype": "text/x-python",
   "name": "python",
   "nbconvert_exporter": "python",
   "pygments_lexer": "ipython3",
   "version": "3.8.8"
  },
  "orig_nbformat": 4
 },
 "nbformat": 4,
 "nbformat_minor": 2
}
