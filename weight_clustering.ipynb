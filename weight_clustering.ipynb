{
 "cells": [
  {
   "cell_type": "code",
   "execution_count": 1,
   "metadata": {},
   "outputs": [],
   "source": [
    "import numpy as np\n",
    "import graph_tools_construction as gt\n",
    "from matplotlib import pyplot as plt\n",
    "from scipy.cluster.hierarchy import to_tree"
   ]
  },
  {
   "cell_type": "code",
   "execution_count": 2,
   "metadata": {},
   "outputs": [
    {
     "data": {
      "text/plain": [
       "<matplotlib.image.AxesImage at 0x7fcc4d3a3438>"
      ]
     },
     "execution_count": 2,
     "metadata": {},
     "output_type": "execute_result"
    },
    {
     "data": {
      "image/png": "[encoded data removed]",
      "text/plain": [
       "<Figure size 432x288 with 1 Axes>"
      ]
     },
     "metadata": {
      "needs_background": "light"
     },
     "output_type": "display_data"
    }
   ],
   "source": [
    "A = np.array( [ [0, .1, .7, .1, .1, .1, .1],\n",
    "                [0,  0, .1, .3, .1, .1, .1],\n",
    "                [0,  0,  0, .3, .1, .1, .1],\n",
    "                [0,  0,  0,  0, .1, .2, .1],\n",
    "                [0,  0,  0,  0,  0,  1,  2],\n",
    "                [0,  0,  0,  0,  0,  0,  1],\n",
    "                [0,  0,  0,  0,  0,  0,  0]])\n",
    "A = A + A.T\n",
    "# A = np.random.rand(100,100)\n",
    "# A = A - np.diag(A)*np.eye(100)\n",
    "plt.imshow(A)"
   ]
  },
  {
   "cell_type": "code",
   "execution_count": 3,
   "metadata": {},
   "outputs": [
    {
     "data": {
      "text/plain": [
       "array([[0. , 0.1, 0.7, 0.1, 0.1, 0.1, 0.1],\n",
       "       [0.1, 0. , 0.1, 0.3, 0.1, 0.1, 0.1],\n",
       "       [0.7, 0.1, 0. , 0.3, 0.1, 0.1, 0.1],\n",
       "       [0.1, 0.3, 0.3, 0. , 0.1, 0.2, 0.1],\n",
       "       [0.1, 0.1, 0.1, 0.1, 0. , 1. , 2. ],\n",
       "       [0.1, 0.1, 0.1, 0.2, 1. , 0. , 1. ],\n",
       "       [0.1, 0.1, 0.1, 0.1, 2. , 1. , 0. ]])"
      ]
     },
     "execution_count": 3,
     "metadata": {},
     "output_type": "execute_result"
    }
   ],
   "source": [
    "A"
   ]
  },
  {
   "cell_type": "code",
   "execution_count": 4,
   "metadata": {},
   "outputs": [
    {
     "name": "stdout",
     "output_type": "stream",
     "text": [
      "[[0.  0.1 0.7 0.1]\n",
      " [0.1 0.  0.1 0.3]\n",
      " [0.7 0.1 0.  0.3]\n",
      " [0.1 0.3 0.3 0. ]]\n",
      "[[0. 1. 2.]\n",
      " [1. 0. 1.]\n",
      " [2. 1. 0.]]\n",
      "[[0.]]\n",
      "[[0. 2.]\n",
      " [2. 0.]]\n",
      "[[0.]]\n",
      "[]\n",
      "[[0.]]\n",
      "[[0.]]\n",
      "[[0.]]\n",
      "[]\n",
      "[[0.]]\n",
      "[]\n"
     ]
    }
   ],
   "source": [
    "clst_adj = []\n",
    "nodes = np.arange(A.shape[0])\n",
    "clst_node = []\n",
    "all_clusters_node = []\n",
    "\n",
    "gt.cluster_laplace(A, clst_adj, nodes, 1, clst_node, all_clusters_node, stop_criteria = 'weight')\n"
   ]
  },
  {
   "cell_type": "code",
   "execution_count": 5,
   "metadata": {},
   "outputs": [
    {
     "data": {
      "text/plain": [
       "[array([0, 1, 2, 3, 4, 5, 6]),\n",
       " array([4, 5, 6]),\n",
       " array([5]),\n",
       " array([4, 6]),\n",
       " array([6]),\n",
       " array([4])]"
      ]
     },
     "execution_count": 5,
     "metadata": {},
     "output_type": "execute_result"
    }
   ],
   "source": [
    "all_clusters_node"
   ]
  },
  {
   "cell_type": "code",
   "execution_count": 4,
   "metadata": {},
   "outputs": [],
   "source": [
    "Z = gt.linkage_matrix(all_clusters_node, A, 'dumb')\n"
   ]
  },
  {
   "cell_type": "code",
   "execution_count": 5,
   "metadata": {},
   "outputs": [],
   "source": [
    "root, tree = to_tree(Z, True)"
   ]
  },
  {
   "cell_type": "code",
   "execution_count": 6,
   "metadata": {},
   "outputs": [
    {
     "data": {
      "text/plain": [
       "True"
      ]
     },
     "execution_count": 6,
     "metadata": {},
     "output_type": "execute_result"
    }
   ],
   "source": [
    "tree[root.get_left().get_id()].is_leaf()"
   ]
  },
  {
   "cell_type": "code",
   "execution_count": 7,
   "metadata": {},
   "outputs": [],
   "source": [
    "fiedler_switch = False"
   ]
  },
  {
   "cell_type": "code",
   "execution_count": 38,
   "metadata": {},
   "outputs": [],
   "source": [
    "#partition the data using the fiedler vector\n",
    "N1,N2 = gt.laplace_partition(A,fiedler_switch,1)\n",
    "#sizes of the clusters\n",
    "s1 = N1.size\n",
    "s2 = N2.size\n",
    "#nodes in each cluser\n",
    "nodes1 = np.zeros(s1)\n",
    "nodes2 = np.zeros(s2)\n",
    "if s1 > 0:\n",
    "    for i in range(s1):\n",
    "        nodes1[i] = nodes[N1[i]]\n",
    "if s2 > 0:\n",
    "    for i in range(s2):\n",
    "        nodes2[i] = nodes[N2[i]]\n",
    "#adjacency matrix for each cluster\n",
    "A1 = np.zeros((s1,s1))\n",
    "A2 = np.zeros((s2,s2))\n",
    "for i in range(s1):\n",
    "    for j in range(s1):\n",
    "        A1[i,j] = A[N1[i],N1[j]]\n",
    "for i in range(s2):\n",
    "    for j in range(s2):\n",
    "        A2[i,j] = A[N2[i],N2[j]]\n"
   ]
  },
  {
   "cell_type": "code",
   "execution_count": null,
   "metadata": {},
   "outputs": [],
   "source": []
  },
  {
   "cell_type": "code",
   "execution_count": 50,
   "metadata": {},
   "outputs": [],
   "source": [
    "mx = np.ma.masked_array(A, mask=np.eye(A.shape[0]))\n",
    "mx1 = np.ma.masked_array(A1, mask=np.eye(A1.shape[0]))\n",
    "mx2 = np.ma.masked_array(A1, mask=np.eye(A2.shape[0]))\n"
   ]
  },
  {
   "cell_type": "code",
   "execution_count": 51,
   "metadata": {},
   "outputs": [],
   "source": [
    "med = np.ma.median(mx)\n",
    "med1 = np.ma.median(mx1)\n",
    "med2 = np.ma.median(mx2)\n"
   ]
  },
  {
   "cell_type": "code",
   "execution_count": 53,
   "metadata": {},
   "outputs": [
    {
     "data": {
      "text/plain": [
       "True"
      ]
     },
     "execution_count": 53,
     "metadata": {},
     "output_type": "execute_result"
    }
   ],
   "source": [
    "keep_going = med <= med1 and med <= med2\n",
    "keep_going"
   ]
  },
  {
   "cell_type": "code",
   "execution_count": null,
   "metadata": {},
   "outputs": [],
   "source": [
    "#add this cluster of nodes to the list of nodes\n",
    "all_clusters_node.append(np.array([int(node) for node in nodes]))\n",
    "\n",
    "#store the final clusters and their adjacency matrices\n",
    "if s1 < min_clust_sz or s2 < min_clust_sz:\n",
    "    clst_adj.append(A)\n",
    "    clst_node.append(nodes)\n",
    "#if we are not done, recurse\n",
    "if s1 >= min_clust_sz and s2 >= min_clust_sz:\n",
    "    cluster_laplace(A1, clst_adj, nodes1, min_clust_sz, clst_node, all_clusters_node)\n",
    "    cluster_laplace(A2, clst_adj, nodes2, min_clust_sz, clst_node, all_clusters_node)"
   ]
  }
 ],
 "metadata": {
  "interpreter": {
   "hash": "916dbcbb3f70747c44a77c7bcd40155683ae19c65e1c03b4aa3499c5328201f1"
  },
  "kernelspec": {
   "display_name": "Python 3.6.8 64-bit",
   "language": "python",
   "name": "python3"
  },
  "language_info": {
   "codemirror_mode": {
    "name": "ipython",
    "version": 3
   },
   "file_extension": ".py",
   "mimetype": "text/x-python",
   "name": "python",
   "nbconvert_exporter": "python",
   "pygments_lexer": "ipython3",
   "version": "3.6.8"
  },
  "orig_nbformat": 4
 },
 "nbformat": 4,
 "nbformat_minor": 2
}
